{
 "cells": [
  {
   "cell_type": "markdown",
   "metadata": {},
   "source": [
    "# JupyterLab Connection"
   ]
  },
  {
   "cell_type": "code",
   "execution_count": 1,
   "metadata": {
    "collapsed": true,
    "jupyter": {
     "outputs_hidden": true
    }
   },
   "outputs": [
    {
     "data": {
      "text/plain": [
       "['Requirement already satisfied: ipython-sql in c:\\\\users\\\\obo\\\\anaconda3\\\\lib\\\\site-packages (0.4.0)',\n",
       " 'Requirement already satisfied: six in c:\\\\users\\\\obo\\\\anaconda3\\\\lib\\\\site-packages (from ipython-sql) (1.15.0)',\n",
       " 'Requirement already satisfied: sqlparse in c:\\\\users\\\\obo\\\\anaconda3\\\\lib\\\\site-packages (from ipython-sql) (0.4.1)',\n",
       " 'Requirement already satisfied: prettytable<1 in c:\\\\users\\\\obo\\\\anaconda3\\\\lib\\\\site-packages (from ipython-sql) (0.7.2)',\n",
       " 'Requirement already satisfied: ipython-genutils>=0.1.0 in c:\\\\users\\\\obo\\\\anaconda3\\\\lib\\\\site-packages (from ipython-sql) (0.2.0)',\n",
       " 'Requirement already satisfied: sqlalchemy>=0.6.7 in c:\\\\users\\\\obo\\\\anaconda3\\\\lib\\\\site-packages (from ipython-sql) (1.4.13)',\n",
       " 'Requirement already satisfied: ipython>=1.0 in c:\\\\users\\\\obo\\\\anaconda3\\\\lib\\\\site-packages (from ipython-sql) (7.19.0)',\n",
       " 'Requirement already satisfied: decorator in c:\\\\users\\\\obo\\\\anaconda3\\\\lib\\\\site-packages (from ipython>=1.0->ipython-sql) (4.4.2)',\n",
       " 'Requirement already satisfied: prompt-toolkit!=3.0.0,!=3.0.1,<3.1.0,>=2.0.0 in c:\\\\users\\\\obo\\\\anaconda3\\\\lib\\\\site-packages (from ipython>=1.0->ipython-sql) (3.0.8)',\n",
       " 'Requirement already satisfied: pickleshare in c:\\\\users\\\\obo\\\\anaconda3\\\\lib\\\\site-packages (from ipython>=1.0->ipython-sql) (0.7.5)',\n",
       " 'Requirement already satisfied: pygments in c:\\\\users\\\\obo\\\\anaconda3\\\\lib\\\\site-packages (from ipython>=1.0->ipython-sql) (2.7.2)',\n",
       " 'Requirement already satisfied: jedi>=0.10 in c:\\\\users\\\\obo\\\\anaconda3\\\\lib\\\\site-packages (from ipython>=1.0->ipython-sql) (0.17.2)',\n",
       " 'Requirement already satisfied: setuptools>=18.5 in c:\\\\users\\\\obo\\\\anaconda3\\\\lib\\\\site-packages (from ipython>=1.0->ipython-sql) (50.3.2.post20201202)',\n",
       " 'Requirement already satisfied: backcall in c:\\\\users\\\\obo\\\\anaconda3\\\\lib\\\\site-packages (from ipython>=1.0->ipython-sql) (0.2.0)',\n",
       " 'Requirement already satisfied: traitlets>=4.2 in c:\\\\users\\\\obo\\\\anaconda3\\\\lib\\\\site-packages (from ipython>=1.0->ipython-sql) (5.0.5)',\n",
       " 'Requirement already satisfied: colorama in c:\\\\users\\\\obo\\\\anaconda3\\\\lib\\\\site-packages (from ipython>=1.0->ipython-sql) (0.4.4)',\n",
       " 'Requirement already satisfied: parso<0.8.0,>=0.7.0 in c:\\\\users\\\\obo\\\\anaconda3\\\\lib\\\\site-packages (from jedi>=0.10->ipython>=1.0->ipython-sql) (0.7.1)',\n",
       " 'Requirement already satisfied: wcwidth in c:\\\\users\\\\obo\\\\anaconda3\\\\lib\\\\site-packages (from prompt-toolkit!=3.0.0,!=3.0.1,<3.1.0,>=2.0.0->ipython>=1.0->ipython-sql) (0.2.5)',\n",
       " 'Requirement already satisfied: greenlet!=0.4.17 in c:\\\\users\\\\obo\\\\anaconda3\\\\lib\\\\site-packages (from sqlalchemy>=0.6.7->ipython-sql) (1.0.0)',\n",
       " 'Requirement already satisfied: ipython-genutils>=0.1.0 in c:\\\\users\\\\obo\\\\anaconda3\\\\lib\\\\site-packages (from ipython-sql) (0.2.0)']"
      ]
     },
     "execution_count": 1,
     "metadata": {},
     "output_type": "execute_result"
    }
   ],
   "source": [
    "%%!\n",
    "pip install --trusted-host pypi.org ipython-sql"
   ]
  },
  {
   "cell_type": "code",
   "execution_count": 2,
   "metadata": {},
   "outputs": [],
   "source": [
    "%load_ext sql"
   ]
  },
  {
   "cell_type": "code",
   "execution_count": 4,
   "metadata": {},
   "outputs": [],
   "source": [
    "%sql sqlite:///etrade.db"
   ]
  },
  {
   "cell_type": "markdown",
   "metadata": {},
   "source": [
    "# DATA PREPARATION"
   ]
  },
  {
   "cell_type": "markdown",
   "metadata": {},
   "source": [
    "I simulated an e-trade  relational database which have 17 tables . Some of them will be created bu JupyterLab  and some of them will be formed in SQLlite.I found table's data from internet.\n",
    "\n",
    "**Important notes: The names,surnames and all personel data are faked.They were constituted by scprits and i am gonna share shopping scripts(for MSSQL) which chose a random user and appoint the items for shopper in a random time.**"
   ]
  },
  {
   "cell_type": "raw",
   "metadata": {},
   "source": [
    "###\n",
    "/*\n",
    "TRUNCATE TABLE BASKET\n",
    "TRUNCATE TABLE BASKETDETAIL\n",
    "TRUNCATE TABLE PAYMENT\n",
    "TRUNCATE TABLE ORDERDETAIL\n",
    "TRUNCATE TABLE ORDER_\n",
    "TRUNCATE TABLE INVOICE\n",
    "TRUNCATE TABLE INVOICEDETAIL\n",
    "*/\n",
    "DECLARE @I AS INT=0\n",
    "WHILE @I<20000\n",
    "BEGIN\n",
    "DECLARE @USERID AS INT\n",
    "DECLARE @BASKETID AS INT\n",
    "DECLARE @ITEMID AS INT\n",
    "DECLARE @ORDERID AS INT\n",
    "DECLARE @DATE AS DATETIME\n",
    "\n",
    "DECLARE @DATE2 AS DATETIME\n",
    "DECLARE @RAND AS FLOAT\n",
    "DECLARE @ADDRESID AS INT \n",
    "\n",
    "--CHOSING USER\n",
    "SET @RAND =RAND()*10000\n",
    "SET @USERID =@RAND\n",
    "SET @RAND =RAND()*365\n",
    "SET @DATE =DATEADD(DAY,-@RAND,GETDATE())\n",
    "SET @DATE2=@DATE \n",
    "DECLARE @ADDRESSCOUNT AS INT\n",
    "SELECT @ADDRESSCOUNT=COUNT(*) FROM ADDRES WHERE USERID=@USERID \n",
    "\n",
    "SELECT @ADDRESID=ID  FROM (SELECT \n",
    "  ROW_NUMBER() OVER(  ORDER BY ID ASC) AS ROWNR,\n",
    "* FROM ADDRES WHERE USERID=@USERID\n",
    ") T WHERE ROWNR=ROUND(RAND()*@ADDRESSCOUNT,0)\n",
    "--BASKET\n",
    "INSERT INTO BASKET(USERID, CREATEDDATE, STATUS_)\n",
    "VALUES (@USERID,@DATE,0)\n",
    "SET @BASKETID=@@IDENTITY\n",
    "--BASKETDETAIL\n",
    "DECLARE @ITEMCOUNT AS INT\n",
    "SET @ITEMCOUNT=RAND()*10\n",
    "DECLARE @K AS INT=0\n",
    "DECLARE @AMOUNT AS INT\n",
    "\tWHILE @K<@ITEMCOUNT\n",
    "\tBEGIN\n",
    "\t\tSET @ITEMID=RAND()*28110\n",
    "\t\tSET @AMOUNT =1+(RAND()*4)\n",
    "\t\tSET @DATE=ISNULL((SELECT MAX(DATE_) FROM BASKETDETAIL WHERE BASKETID=@BASKETID),@DATE)\n",
    "\t\tSET @DATE=DATEADD(SECOND,RAND()*150, @DATE)\n",
    "\t\tINSERT INTO BASKETDETAIL( BASKETID, DATE_, ITEMID, AMOUNT, PRICE,  TOTAL)\n",
    "\t\tSELECT   @BASKETID,@DATE,@ITEMID,@AMOUNT,PRICE,PRICE*@AMOUNT FROM ITEM WHERE ID=@ITEMID\n",
    "\t\tSET @K=@K+1\n",
    "\t\tUPDATE BASKET SET LASTMODIFIEDDATE=@DATE WHERE ID=@BASKETID\n",
    "\tEND\n",
    "----PAYMENT\n",
    "DECLARE @TOTALPRICE AS FLOAT\n",
    "DECLARE @APPROVECODE AS VARCHAR(20)\n",
    "SET @DATE =DATEADD(SECOND,RAND()*50,@DATE)\n",
    "SET @APPROVECODE='OK'+CONVERT(VARCHAR,@BASKETID)+CONVERT(VARCHAR,YEAR(@DATE)*365+DAY(@DATE)+DATEPART(SECOND,@DATE))\n",
    "SELECT @TOTALPRICE=SUM(AMOUNT*PRICE) FROM BASKETDETAIL WHERE BASKETID=@BASKETID\n",
    "INSERT INTO PAYMENT (BASKETID, TOTALPRICE, PAYMENTTYPE, DATE_, ISOK, APPROVECODE, ERROR_)\n",
    "VALUES (@BASKETID, @TOTALPRICE, ROUND(RAND()*5,0), @DATE, 1, @APPROVECODE, '')\n",
    "\n",
    "\n",
    "UPDATE BASKET SET STATUS_=1 WHERE ID=@BASKETID\n",
    "--ORDER\n",
    "INSERT INTO ORDER_ ( USERID, ADDRESSID, BASKETID, DATE_, STATUS_)\n",
    "VALUES (@USERID,@ADDRESID,@BASKETID,@DATE,1)\n",
    "\n",
    "SET @ORDERID=@@IDENTITY\n",
    "--ORDERDETAIL\n",
    "DECLARE @INVOICEID AS INT\n",
    "\n",
    "INSERT INTO ORDERDETAIL(ORDERID, BASKETDETAILID, ITEMID, AMOUNT, PRICE, TOTALPRICE)\n",
    "SELECT @ORDERID, ID, ITEMID, AMOUNT, PRICE, AMOUNT*PRICE ASTOTALPRICE FROM BASKETDETAIL WHERE BASKETID=@BASKETID\n",
    "\n",
    "--INVOICE\n",
    "DECLARE @INVOICENO AS VARCHAR(100)\n",
    "SELECT  @INVOICENO=REPLACE(CONVERT(VARCHAR,GETDATE(),104),'.','')+'-'+REPLACE(CONVERT(VARCHAR,GETDATE(),108),':','')\n",
    "INSERT INTO [dbo].[INVOICE] (ORDERID, INVOICENO, DATE_, CARGOFICHENO, STATUS_)\n",
    "VALUES (@ORDERID,@INVOICENO,DATEADD(SECOND,(100000+RAND()*250000),@DATE),'CRG'+@INVOICENO,1)\n",
    "\n",
    "\n",
    " SET @INVOICEID=@@IDENTITY\n",
    "\n",
    "INSERT INTO INVOICEDETAIL (INVOICEID, ORDERDETAILID, ITEMID, PRICE, AMOUNT,TOTALPRICE)\n",
    "SELECT @INVOICEID, ID, ITEMID, PRICE, AMOUNT, PRICE*AMOUNT FROM ORDERDETAIL WHERE ORDERID=@ORDERID\n",
    "--SELECT @USERID,@DATE ,@ADDRESSCOUNT,@ADDRESID\n",
    "SET @I=@I+1 \n",
    "END\n",
    "\n",
    "###"
   ]
  },
  {
   "cell_type": "markdown",
   "metadata": {},
   "source": [
    "# CRETAION OF TABLES"
   ]
  },
  {
   "cell_type": "code",
   "execution_count": null,
   "metadata": {},
   "outputs": [],
   "source": [
    "%%sql\n",
    "\n",
    "#CREATE USER TABLE\n",
    "\n",
    "CREATE TABLE user (\n",
    "ID INT IDENTITY(1,1),\n",
    "USERNAME_ VARCHAR(50),\n",
    "PASSWORD_ VARCHAR(50),\n",
    "NAMESURNAME VARCHAR(100),\n",
    "EMAIL VARCHAR(100),\n",
    "GENDER VARCHAR(1),\n",
    "CREATEDDATE DATETIME,\n",
    "BIRTHDATE DATE,\n",
    "TELNR1 VARCHAR(15),\n",
    "TELNR2 VARCHAR(15),\n",
    "CONSTRAINT [PK_USER_] PRIMARY KEY  (ID ASC))\n"
   ]
  },
  {
   "cell_type": "code",
   "execution_count": 23,
   "metadata": {
    "collapsed": true,
    "jupyter": {
     "outputs_hidden": true
    }
   },
   "outputs": [
    {
     "name": "stdout",
     "output_type": "stream",
     "text": [
      " * sqlite:///etrade.db\n",
      "Done.\n",
      "Done.\n",
      "Done.\n",
      "Done.\n"
     ]
    },
    {
     "ename": "ResourceClosedError",
     "evalue": "This result object does not return rows. It has been closed automatically.",
     "output_type": "error",
     "traceback": [
      "\u001b[1;31m---------------------------------------------------------------------------\u001b[0m",
      "\u001b[1;31mResourceClosedError\u001b[0m                       Traceback (most recent call last)",
      "\u001b[1;32m<ipython-input-23-ebc4d3d49b2d>\u001b[0m in \u001b[0;36m<module>\u001b[1;34m\u001b[0m\n\u001b[1;32m----> 1\u001b[1;33m \u001b[0mget_ipython\u001b[0m\u001b[1;33m(\u001b[0m\u001b[1;33m)\u001b[0m\u001b[1;33m.\u001b[0m\u001b[0mrun_cell_magic\u001b[0m\u001b[1;33m(\u001b[0m\u001b[1;34m'sql'\u001b[0m\u001b[1;33m,\u001b[0m \u001b[1;34m''\u001b[0m\u001b[1;33m,\u001b[0m \u001b[1;34m'\\nCREATE TABLE COUNTRY(\\nID INT IDENTITY(1,1),\\nCOUNTRY VARCHAR(100),\\nCONSTRAINT [PK_COUNTRY] PRIMARY KEY  (ID ASC));\\n\\nCREATE TABLE TOWN(\\nID INT IDENTITY(1,1),\\nCITYID INT,\\nTOWN VARCHAR(100),\\nCONSTRAINT [PK_TOWN] PRIMARY KEY  (ID ASC));\\n\\nCREATE TABLE DISTRICT(\\nID INT IDENTITY(1,1),\\nTOWNID INT,\\nDISTRICT VARCHAR(100),\\nCONSTRAINT [PK_DISTRICT] PRIMARY KEY  (ID ASC));\\n\\nCREATE TABLE CITY(\\nID INT IDENTITY(1,1),\\nCITY VARCHAR(100),\\nCONSTRAINT [PK_CITY] PRIMARY KEY  (ID ASC));\\n'\u001b[0m\u001b[1;33m)\u001b[0m\u001b[1;33m\u001b[0m\u001b[1;33m\u001b[0m\u001b[0m\n\u001b[0m",
      "\u001b[1;32m~\\anaconda3\\lib\\site-packages\\IPython\\core\\interactiveshell.py\u001b[0m in \u001b[0;36mrun_cell_magic\u001b[1;34m(self, magic_name, line, cell)\u001b[0m\n\u001b[0;32m   2380\u001b[0m             \u001b[1;32mwith\u001b[0m \u001b[0mself\u001b[0m\u001b[1;33m.\u001b[0m\u001b[0mbuiltin_trap\u001b[0m\u001b[1;33m:\u001b[0m\u001b[1;33m\u001b[0m\u001b[1;33m\u001b[0m\u001b[0m\n\u001b[0;32m   2381\u001b[0m                 \u001b[0margs\u001b[0m \u001b[1;33m=\u001b[0m \u001b[1;33m(\u001b[0m\u001b[0mmagic_arg_s\u001b[0m\u001b[1;33m,\u001b[0m \u001b[0mcell\u001b[0m\u001b[1;33m)\u001b[0m\u001b[1;33m\u001b[0m\u001b[1;33m\u001b[0m\u001b[0m\n\u001b[1;32m-> 2382\u001b[1;33m                 \u001b[0mresult\u001b[0m \u001b[1;33m=\u001b[0m \u001b[0mfn\u001b[0m\u001b[1;33m(\u001b[0m\u001b[1;33m*\u001b[0m\u001b[0margs\u001b[0m\u001b[1;33m,\u001b[0m \u001b[1;33m**\u001b[0m\u001b[0mkwargs\u001b[0m\u001b[1;33m)\u001b[0m\u001b[1;33m\u001b[0m\u001b[1;33m\u001b[0m\u001b[0m\n\u001b[0m\u001b[0;32m   2383\u001b[0m             \u001b[1;32mreturn\u001b[0m \u001b[0mresult\u001b[0m\u001b[1;33m\u001b[0m\u001b[1;33m\u001b[0m\u001b[0m\n\u001b[0;32m   2384\u001b[0m \u001b[1;33m\u001b[0m\u001b[0m\n",
      "\u001b[1;32m<decorator-gen-119>\u001b[0m in \u001b[0;36mexecute\u001b[1;34m(self, line, cell, local_ns)\u001b[0m\n",
      "\u001b[1;32m~\\anaconda3\\lib\\site-packages\\IPython\\core\\magic.py\u001b[0m in \u001b[0;36m<lambda>\u001b[1;34m(f, *a, **k)\u001b[0m\n\u001b[0;32m    185\u001b[0m     \u001b[1;31m# but it's overkill for just that one bit of state.\u001b[0m\u001b[1;33m\u001b[0m\u001b[1;33m\u001b[0m\u001b[1;33m\u001b[0m\u001b[0m\n\u001b[0;32m    186\u001b[0m     \u001b[1;32mdef\u001b[0m \u001b[0mmagic_deco\u001b[0m\u001b[1;33m(\u001b[0m\u001b[0marg\u001b[0m\u001b[1;33m)\u001b[0m\u001b[1;33m:\u001b[0m\u001b[1;33m\u001b[0m\u001b[1;33m\u001b[0m\u001b[0m\n\u001b[1;32m--> 187\u001b[1;33m         \u001b[0mcall\u001b[0m \u001b[1;33m=\u001b[0m \u001b[1;32mlambda\u001b[0m \u001b[0mf\u001b[0m\u001b[1;33m,\u001b[0m \u001b[1;33m*\u001b[0m\u001b[0ma\u001b[0m\u001b[1;33m,\u001b[0m \u001b[1;33m**\u001b[0m\u001b[0mk\u001b[0m\u001b[1;33m:\u001b[0m \u001b[0mf\u001b[0m\u001b[1;33m(\u001b[0m\u001b[1;33m*\u001b[0m\u001b[0ma\u001b[0m\u001b[1;33m,\u001b[0m \u001b[1;33m**\u001b[0m\u001b[0mk\u001b[0m\u001b[1;33m)\u001b[0m\u001b[1;33m\u001b[0m\u001b[1;33m\u001b[0m\u001b[0m\n\u001b[0m\u001b[0;32m    188\u001b[0m \u001b[1;33m\u001b[0m\u001b[0m\n\u001b[0;32m    189\u001b[0m         \u001b[1;32mif\u001b[0m \u001b[0mcallable\u001b[0m\u001b[1;33m(\u001b[0m\u001b[0marg\u001b[0m\u001b[1;33m)\u001b[0m\u001b[1;33m:\u001b[0m\u001b[1;33m\u001b[0m\u001b[1;33m\u001b[0m\u001b[0m\n",
      "\u001b[1;32m<decorator-gen-118>\u001b[0m in \u001b[0;36mexecute\u001b[1;34m(self, line, cell, local_ns)\u001b[0m\n",
      "\u001b[1;32m~\\anaconda3\\lib\\site-packages\\IPython\\core\\magic.py\u001b[0m in \u001b[0;36m<lambda>\u001b[1;34m(f, *a, **k)\u001b[0m\n\u001b[0;32m    185\u001b[0m     \u001b[1;31m# but it's overkill for just that one bit of state.\u001b[0m\u001b[1;33m\u001b[0m\u001b[1;33m\u001b[0m\u001b[1;33m\u001b[0m\u001b[0m\n\u001b[0;32m    186\u001b[0m     \u001b[1;32mdef\u001b[0m \u001b[0mmagic_deco\u001b[0m\u001b[1;33m(\u001b[0m\u001b[0marg\u001b[0m\u001b[1;33m)\u001b[0m\u001b[1;33m:\u001b[0m\u001b[1;33m\u001b[0m\u001b[1;33m\u001b[0m\u001b[0m\n\u001b[1;32m--> 187\u001b[1;33m         \u001b[0mcall\u001b[0m \u001b[1;33m=\u001b[0m \u001b[1;32mlambda\u001b[0m \u001b[0mf\u001b[0m\u001b[1;33m,\u001b[0m \u001b[1;33m*\u001b[0m\u001b[0ma\u001b[0m\u001b[1;33m,\u001b[0m \u001b[1;33m**\u001b[0m\u001b[0mk\u001b[0m\u001b[1;33m:\u001b[0m \u001b[0mf\u001b[0m\u001b[1;33m(\u001b[0m\u001b[1;33m*\u001b[0m\u001b[0ma\u001b[0m\u001b[1;33m,\u001b[0m \u001b[1;33m**\u001b[0m\u001b[0mk\u001b[0m\u001b[1;33m)\u001b[0m\u001b[1;33m\u001b[0m\u001b[1;33m\u001b[0m\u001b[0m\n\u001b[0m\u001b[0;32m    188\u001b[0m \u001b[1;33m\u001b[0m\u001b[0m\n\u001b[0;32m    189\u001b[0m         \u001b[1;32mif\u001b[0m \u001b[0mcallable\u001b[0m\u001b[1;33m(\u001b[0m\u001b[0marg\u001b[0m\u001b[1;33m)\u001b[0m\u001b[1;33m:\u001b[0m\u001b[1;33m\u001b[0m\u001b[1;33m\u001b[0m\u001b[0m\n",
      "\u001b[1;32m~\\anaconda3\\lib\\site-packages\\sql\\magic.py\u001b[0m in \u001b[0;36mexecute\u001b[1;34m(self, line, cell, local_ns)\u001b[0m\n\u001b[0;32m    215\u001b[0m \u001b[1;33m\u001b[0m\u001b[0m\n\u001b[0;32m    216\u001b[0m         \u001b[1;32mtry\u001b[0m\u001b[1;33m:\u001b[0m\u001b[1;33m\u001b[0m\u001b[1;33m\u001b[0m\u001b[0m\n\u001b[1;32m--> 217\u001b[1;33m             \u001b[0mresult\u001b[0m \u001b[1;33m=\u001b[0m \u001b[0msql\u001b[0m\u001b[1;33m.\u001b[0m\u001b[0mrun\u001b[0m\u001b[1;33m.\u001b[0m\u001b[0mrun\u001b[0m\u001b[1;33m(\u001b[0m\u001b[0mconn\u001b[0m\u001b[1;33m,\u001b[0m \u001b[0mparsed\u001b[0m\u001b[1;33m[\u001b[0m\u001b[1;34m\"sql\"\u001b[0m\u001b[1;33m]\u001b[0m\u001b[1;33m,\u001b[0m \u001b[0mself\u001b[0m\u001b[1;33m,\u001b[0m \u001b[0muser_ns\u001b[0m\u001b[1;33m)\u001b[0m\u001b[1;33m\u001b[0m\u001b[1;33m\u001b[0m\u001b[0m\n\u001b[0m\u001b[0;32m    218\u001b[0m \u001b[1;33m\u001b[0m\u001b[0m\n\u001b[0;32m    219\u001b[0m             if (\n",
      "\u001b[1;32m~\\anaconda3\\lib\\site-packages\\sql\\run.py\u001b[0m in \u001b[0;36mrun\u001b[1;34m(conn, sql, config, user_namespace)\u001b[0m\n\u001b[0;32m    369\u001b[0m             \u001b[1;32mif\u001b[0m \u001b[0mresult\u001b[0m \u001b[1;32mand\u001b[0m \u001b[0mconfig\u001b[0m\u001b[1;33m.\u001b[0m\u001b[0mfeedback\u001b[0m\u001b[1;33m:\u001b[0m\u001b[1;33m\u001b[0m\u001b[1;33m\u001b[0m\u001b[0m\n\u001b[0;32m    370\u001b[0m                 \u001b[0mprint\u001b[0m\u001b[1;33m(\u001b[0m\u001b[0minterpret_rowcount\u001b[0m\u001b[1;33m(\u001b[0m\u001b[0mresult\u001b[0m\u001b[1;33m.\u001b[0m\u001b[0mrowcount\u001b[0m\u001b[1;33m)\u001b[0m\u001b[1;33m)\u001b[0m\u001b[1;33m\u001b[0m\u001b[1;33m\u001b[0m\u001b[0m\n\u001b[1;32m--> 371\u001b[1;33m         \u001b[0mresultset\u001b[0m \u001b[1;33m=\u001b[0m \u001b[0mResultSet\u001b[0m\u001b[1;33m(\u001b[0m\u001b[0mresult\u001b[0m\u001b[1;33m,\u001b[0m \u001b[0mstatement\u001b[0m\u001b[1;33m,\u001b[0m \u001b[0mconfig\u001b[0m\u001b[1;33m)\u001b[0m\u001b[1;33m\u001b[0m\u001b[1;33m\u001b[0m\u001b[0m\n\u001b[0m\u001b[0;32m    372\u001b[0m         \u001b[1;32mif\u001b[0m \u001b[0mconfig\u001b[0m\u001b[1;33m.\u001b[0m\u001b[0mautopandas\u001b[0m\u001b[1;33m:\u001b[0m\u001b[1;33m\u001b[0m\u001b[1;33m\u001b[0m\u001b[0m\n\u001b[0;32m    373\u001b[0m             \u001b[1;32mreturn\u001b[0m \u001b[0mresultset\u001b[0m\u001b[1;33m.\u001b[0m\u001b[0mDataFrame\u001b[0m\u001b[1;33m(\u001b[0m\u001b[1;33m)\u001b[0m\u001b[1;33m\u001b[0m\u001b[1;33m\u001b[0m\u001b[0m\n",
      "\u001b[1;32m~\\anaconda3\\lib\\site-packages\\sql\\run.py\u001b[0m in \u001b[0;36m__init__\u001b[1;34m(self, sqlaproxy, sql, config)\u001b[0m\n\u001b[0;32m    105\u001b[0m \u001b[1;33m\u001b[0m\u001b[0m\n\u001b[0;32m    106\u001b[0m     \u001b[1;32mdef\u001b[0m \u001b[0m__init__\u001b[0m\u001b[1;33m(\u001b[0m\u001b[0mself\u001b[0m\u001b[1;33m,\u001b[0m \u001b[0msqlaproxy\u001b[0m\u001b[1;33m,\u001b[0m \u001b[0msql\u001b[0m\u001b[1;33m,\u001b[0m \u001b[0mconfig\u001b[0m\u001b[1;33m)\u001b[0m\u001b[1;33m:\u001b[0m\u001b[1;33m\u001b[0m\u001b[1;33m\u001b[0m\u001b[0m\n\u001b[1;32m--> 107\u001b[1;33m         \u001b[0mself\u001b[0m\u001b[1;33m.\u001b[0m\u001b[0mkeys\u001b[0m \u001b[1;33m=\u001b[0m \u001b[0msqlaproxy\u001b[0m\u001b[1;33m.\u001b[0m\u001b[0mkeys\u001b[0m\u001b[1;33m(\u001b[0m\u001b[1;33m)\u001b[0m\u001b[1;33m\u001b[0m\u001b[1;33m\u001b[0m\u001b[0m\n\u001b[0m\u001b[0;32m    108\u001b[0m         \u001b[0mself\u001b[0m\u001b[1;33m.\u001b[0m\u001b[0msql\u001b[0m \u001b[1;33m=\u001b[0m \u001b[0msql\u001b[0m\u001b[1;33m\u001b[0m\u001b[1;33m\u001b[0m\u001b[0m\n\u001b[0;32m    109\u001b[0m         \u001b[0mself\u001b[0m\u001b[1;33m.\u001b[0m\u001b[0mconfig\u001b[0m \u001b[1;33m=\u001b[0m \u001b[0mconfig\u001b[0m\u001b[1;33m\u001b[0m\u001b[1;33m\u001b[0m\u001b[0m\n",
      "\u001b[1;32m~\\anaconda3\\lib\\site-packages\\sqlalchemy\\engine\\result.py\u001b[0m in \u001b[0;36mkeys\u001b[1;34m(self)\u001b[0m\n\u001b[0;32m    696\u001b[0m \u001b[1;33m\u001b[0m\u001b[0m\n\u001b[0;32m    697\u001b[0m         \"\"\"\n\u001b[1;32m--> 698\u001b[1;33m         \u001b[1;32mreturn\u001b[0m \u001b[0mself\u001b[0m\u001b[1;33m.\u001b[0m\u001b[0m_metadata\u001b[0m\u001b[1;33m.\u001b[0m\u001b[0mkeys\u001b[0m\u001b[1;33m\u001b[0m\u001b[1;33m\u001b[0m\u001b[0m\n\u001b[0m\u001b[0;32m    699\u001b[0m \u001b[1;33m\u001b[0m\u001b[0m\n\u001b[0;32m    700\u001b[0m \u001b[1;33m\u001b[0m\u001b[0m\n",
      "\u001b[1;32m~\\anaconda3\\lib\\site-packages\\sqlalchemy\\engine\\cursor.py\u001b[0m in \u001b[0;36mkeys\u001b[1;34m(self)\u001b[0m\n\u001b[0;32m   1199\u001b[0m     \u001b[1;33m@\u001b[0m\u001b[0mproperty\u001b[0m\u001b[1;33m\u001b[0m\u001b[1;33m\u001b[0m\u001b[0m\n\u001b[0;32m   1200\u001b[0m     \u001b[1;32mdef\u001b[0m \u001b[0mkeys\u001b[0m\u001b[1;33m(\u001b[0m\u001b[0mself\u001b[0m\u001b[1;33m)\u001b[0m\u001b[1;33m:\u001b[0m\u001b[1;33m\u001b[0m\u001b[1;33m\u001b[0m\u001b[0m\n\u001b[1;32m-> 1201\u001b[1;33m         \u001b[0mself\u001b[0m\u001b[1;33m.\u001b[0m\u001b[0m_we_dont_return_rows\u001b[0m\u001b[1;33m(\u001b[0m\u001b[1;33m)\u001b[0m\u001b[1;33m\u001b[0m\u001b[1;33m\u001b[0m\u001b[0m\n\u001b[0m\u001b[0;32m   1202\u001b[0m \u001b[1;33m\u001b[0m\u001b[0m\n\u001b[0;32m   1203\u001b[0m \u001b[1;33m\u001b[0m\u001b[0m\n",
      "\u001b[1;32m~\\anaconda3\\lib\\site-packages\\sqlalchemy\\engine\\cursor.py\u001b[0m in \u001b[0;36m_we_dont_return_rows\u001b[1;34m(self, err)\u001b[0m\n\u001b[0;32m   1176\u001b[0m \u001b[1;33m\u001b[0m\u001b[0m\n\u001b[0;32m   1177\u001b[0m     \u001b[1;32mdef\u001b[0m \u001b[0m_we_dont_return_rows\u001b[0m\u001b[1;33m(\u001b[0m\u001b[0mself\u001b[0m\u001b[1;33m,\u001b[0m \u001b[0merr\u001b[0m\u001b[1;33m=\u001b[0m\u001b[1;32mNone\u001b[0m\u001b[1;33m)\u001b[0m\u001b[1;33m:\u001b[0m\u001b[1;33m\u001b[0m\u001b[1;33m\u001b[0m\u001b[0m\n\u001b[1;32m-> 1178\u001b[1;33m         util.raise_(\n\u001b[0m\u001b[0;32m   1179\u001b[0m             exc.ResourceClosedError(\n\u001b[0;32m   1180\u001b[0m                 \u001b[1;34m\"This result object does not return rows. \"\u001b[0m\u001b[1;33m\u001b[0m\u001b[1;33m\u001b[0m\u001b[0m\n",
      "\u001b[1;32m~\\anaconda3\\lib\\site-packages\\sqlalchemy\\util\\compat.py\u001b[0m in \u001b[0;36mraise_\u001b[1;34m(***failed resolving arguments***)\u001b[0m\n\u001b[0;32m    209\u001b[0m \u001b[1;33m\u001b[0m\u001b[0m\n\u001b[0;32m    210\u001b[0m         \u001b[1;32mtry\u001b[0m\u001b[1;33m:\u001b[0m\u001b[1;33m\u001b[0m\u001b[1;33m\u001b[0m\u001b[0m\n\u001b[1;32m--> 211\u001b[1;33m             \u001b[1;32mraise\u001b[0m \u001b[0mexception\u001b[0m\u001b[1;33m\u001b[0m\u001b[1;33m\u001b[0m\u001b[0m\n\u001b[0m\u001b[0;32m    212\u001b[0m         \u001b[1;32mfinally\u001b[0m\u001b[1;33m:\u001b[0m\u001b[1;33m\u001b[0m\u001b[1;33m\u001b[0m\u001b[0m\n\u001b[0;32m    213\u001b[0m             \u001b[1;31m# credit to\u001b[0m\u001b[1;33m\u001b[0m\u001b[1;33m\u001b[0m\u001b[1;33m\u001b[0m\u001b[0m\n",
      "\u001b[1;31mResourceClosedError\u001b[0m: This result object does not return rows. It has been closed automatically."
     ]
    }
   ],
   "source": [
    "%%sql\n",
    "\n",
    "#CREATE COUNTRY,CITY,TOWN,DISTRICT\n",
    "CREATE TABLE COUNTRY(\n",
    "ID INT IDENTITY(1,1),\n",
    "COUNTRY VARCHAR(100),\n",
    "CONSTRAINT [PK_COUNTRY] PRIMARY KEY  (ID ASC));\n",
    "\n",
    "CREATE TABLE TOWN(\n",
    "ID INT IDENTITY(1,1),\n",
    "CITYID INT,\n",
    "TOWN VARCHAR(100),\n",
    "CONSTRAINT [PK_TOWN] PRIMARY KEY  (ID ASC));\n",
    "\n",
    "CREATE TABLE DISTRICT(\n",
    "ID INT IDENTITY(1,1),\n",
    "TOWNID INT,\n",
    "DISTRICT VARCHAR(100),\n",
    "CONSTRAINT [PK_DISTRICT] PRIMARY KEY  (ID ASC));\n",
    "\n",
    "CREATE TABLE CITY(\n",
    "ID INT IDENTITY(1,1),\n",
    "CITY VARCHAR(100),\n",
    "CONSTRAINT [PK_CITY] PRIMARY KEY  (ID ASC));\n"
   ]
  },
  {
   "cell_type": "markdown",
   "metadata": {},
   "source": [
    "I created a few table from here and the others ones are formed on the SQLite. Let's review tables"
   ]
  },
  {
   "cell_type": "markdown",
   "metadata": {},
   "source": [
    "## REVIEW ALL TABLES"
   ]
  },
  {
   "cell_type": "code",
   "execution_count": 188,
   "metadata": {},
   "outputs": [
    {
     "name": "stdout",
     "output_type": "stream",
     "text": [
      " * sqlite:///etrade.db\n",
      "Done.\n"
     ]
    },
    {
     "data": {
      "text/html": [
       "<table>\n",
       "    <tr>\n",
       "        <th>ID</th>\n",
       "        <th>USERNAME_</th>\n",
       "        <th>PASSWORD_</th>\n",
       "        <th>NAMESURNAME</th>\n",
       "        <th>EMAIL</th>\n",
       "        <th>GENDER</th>\n",
       "        <th>CREATEDDATE</th>\n",
       "        <th>BIRTHDATE</th>\n",
       "        <th>TELNR1</th>\n",
       "        <th>TELNR2</th>\n",
       "    </tr>\n",
       "    <tr>\n",
       "        <td>1</td>\n",
       "        <td>N_OZSIMITCI</td>\n",
       "        <td>doropipa</td>\n",
       "        <td>Nazlıcan ÖZSİMİTÇİ</td>\n",
       "        <td>N_OZSIMITCI@sqlegitim.com</td>\n",
       "        <td>K</td>\n",
       "        <td>2018-07-25 01:35:35.000</td>\n",
       "        <td>1951-12-29</td>\n",
       "        <td>(555)3852463</td>\n",
       "        <td>(532)5898448</td>\n",
       "    </tr>\n",
       "    <tr>\n",
       "        <td>2</td>\n",
       "        <td>A_UNLUMAMULERI</td>\n",
       "        <td>boerke80</td>\n",
       "        <td>Arya UNLUMAMULERİ</td>\n",
       "        <td>A_UNLUMAMULERI@sqlegitim.com</td>\n",
       "        <td>K</td>\n",
       "        <td>2018-07-26 01:35:35.000</td>\n",
       "        <td>1957-03-25</td>\n",
       "        <td>(537)5169149</td>\n",
       "        <td>(544)8434440</td>\n",
       "    </tr>\n",
       "    <tr>\n",
       "        <td>3</td>\n",
       "        <td>D_GURBETOGLU</td>\n",
       "        <td>theebryantbitch</td>\n",
       "        <td>Döne GURBETOĞLU</td>\n",
       "        <td>D_GURBETOGLU@sqlegitim.com</td>\n",
       "        <td>K</td>\n",
       "        <td>2018-07-27 01:35:35.000</td>\n",
       "        <td>1986-08-10</td>\n",
       "        <td>(534)9106933</td>\n",
       "        <td>(505)1625581</td>\n",
       "    </tr>\n",
       "</table>"
      ],
      "text/plain": [
       "[(1, 'N_OZSIMITCI', 'doropipa', 'Nazlıcan ÖZSİMİTÇİ', 'N_OZSIMITCI@sqlegitim.com', 'K', '2018-07-25 01:35:35.000', '1951-12-29', '(555)3852463', '(532)5898448'),\n",
       " (2, 'A_UNLUMAMULERI', 'boerke80', 'Arya UNLUMAMULERİ', 'A_UNLUMAMULERI@sqlegitim.com', 'K', '2018-07-26 01:35:35.000', '1957-03-25', '(537)5169149', '(544)8434440'),\n",
       " (3, 'D_GURBETOGLU', 'theebryantbitch', 'Döne GURBETOĞLU', 'D_GURBETOGLU@sqlegitim.com', 'K', '2018-07-27 01:35:35.000', '1986-08-10', '(534)9106933', '(505)1625581')]"
      ]
     },
     "execution_count": 188,
     "metadata": {},
     "output_type": "execute_result"
    }
   ],
   "source": [
    "%%sql\n",
    "SELECT * FROM user LIMIT 3"
   ]
  },
  {
   "cell_type": "markdown",
   "metadata": {},
   "source": [
    "This table has knowledge about users who use e-trade website.As i mentioned above, the whole personel data is simulated and they are not real people."
   ]
  },
  {
   "cell_type": "code",
   "execution_count": 38,
   "metadata": {},
   "outputs": [
    {
     "name": "stdout",
     "output_type": "stream",
     "text": [
      " * sqlite:///etrade.db\n",
      "Done.\n"
     ]
    },
    {
     "data": {
      "text/html": [
       "<table>\n",
       "    <tr>\n",
       "        <th>ID</th>\n",
       "        <th>USERID</th>\n",
       "        <th>ADDRESSTYPE</th>\n",
       "        <th>COUNTRYID</th>\n",
       "        <th>CITYID</th>\n",
       "        <th>TOWNID</th>\n",
       "        <th>DISTRICTID</th>\n",
       "        <th>POSTALCODE</th>\n",
       "        <th>ADDRESSTEXT</th>\n",
       "    </tr>\n",
       "    <tr>\n",
       "        <td>1</td>\n",
       "        <td>1</td>\n",
       "        <td>0</td>\n",
       "        <td>1</td>\n",
       "        <td>41</td>\n",
       "        <td>252</td>\n",
       "        <td>100231</td>\n",
       "        <td>100231</td>\n",
       "        <td>?HSAN?YE MERKEZ MAH.4375.. SOKAK NO:607 100231 G�LC�K/KOCAEL?</td>\n",
       "    </tr>\n",
       "    <tr>\n",
       "        <td>2</td>\n",
       "        <td>1</td>\n",
       "        <td>1</td>\n",
       "        <td>1</td>\n",
       "        <td>71</td>\n",
       "        <td>363</td>\n",
       "        <td>116027</td>\n",
       "        <td>116027</td>\n",
       "        <td>FAT?H MAH.2757. SOKAK NO:856 116027 KIRIKKALE MERKEZ/KIRIKKALE</td>\n",
       "    </tr>\n",
       "    <tr>\n",
       "        <td>3</td>\n",
       "        <td>1</td>\n",
       "        <td>2</td>\n",
       "        <td>1</td>\n",
       "        <td>59</td>\n",
       "        <td>148</td>\n",
       "        <td>110896</td>\n",
       "        <td>110896</td>\n",
       "        <td>GAZ? MUSTAFA KEMALPA?A MAH.KARACAN SOKAK NO:160 110896 �ERKEZK�Y/TEK?RDA?</td>\n",
       "    </tr>\n",
       "</table>"
      ],
      "text/plain": [
       "[(1, 1, 0, 1, 41, 252, 100231, 100231, '?HSAN?YE MERKEZ MAH.4375.. SOKAK NO:607 100231 G�LC�K/KOCAEL?'),\n",
       " (2, 1, 1, 1, 71, 363, 116027, 116027, 'FAT?H MAH.2757. SOKAK NO:856 116027 KIRIKKALE MERKEZ/KIRIKKALE'),\n",
       " (3, 1, 2, 1, 59, 148, 110896, 110896, 'GAZ? MUSTAFA KEMALPA?A MAH.KARACAN SOKAK NO:160 110896 �ERKEZK�Y/TEK?RDA?')]"
      ]
     },
     "execution_count": 38,
     "metadata": {},
     "output_type": "execute_result"
    }
   ],
   "source": [
    "%%sql\n",
    "SELECT * FROM ADDRESS LIMIT 3"
   ]
  },
  {
   "cell_type": "code",
   "execution_count": 5,
   "metadata": {},
   "outputs": [
    {
     "name": "stdout",
     "output_type": "stream",
     "text": [
      " * sqlite:///etrade.db\n",
      "Done.\n"
     ]
    },
    {
     "data": {
      "text/html": [
       "<table>\n",
       "    <tr>\n",
       "        <th>ID</th>\n",
       "        <th>COUNTRY</th>\n",
       "    </tr>\n",
       "    <tr>\n",
       "        <td>1</td>\n",
       "        <td>TURKEY</td>\n",
       "    </tr>\n",
       "</table>"
      ],
      "text/plain": [
       "[(1, 'TURKEY')]"
      ]
     },
     "execution_count": 5,
     "metadata": {},
     "output_type": "execute_result"
    }
   ],
   "source": [
    "%%sql\n",
    "\n",
    "SELECT * FROM COUNTRY LIMIT 3"
   ]
  },
  {
   "cell_type": "markdown",
   "metadata": {},
   "source": [
    "This table has knowledge about country which includes just Turkey because the whole address are in Turkey. "
   ]
  },
  {
   "cell_type": "code",
   "execution_count": 5,
   "metadata": {},
   "outputs": [
    {
     "name": "stdout",
     "output_type": "stream",
     "text": [
      " * sqlite:///etrade.db\n",
      "Done.\n"
     ]
    },
    {
     "data": {
      "text/html": [
       "<table>\n",
       "    <tr>\n",
       "        <th>ID</th>\n",
       "        <th>CITY</th>\n",
       "    </tr>\n",
       "    <tr>\n",
       "        <td>1</td>\n",
       "        <td>ADANA</td>\n",
       "    </tr>\n",
       "    <tr>\n",
       "        <td>2</td>\n",
       "        <td>ADIYAMAN</td>\n",
       "    </tr>\n",
       "    <tr>\n",
       "        <td>3</td>\n",
       "        <td>AFYONKARAHİSAR</td>\n",
       "    </tr>\n",
       "</table>"
      ],
      "text/plain": [
       "[(1, 'ADANA'), (2, 'ADIYAMAN'), (3, 'AFYONKARAHİSAR')]"
      ]
     },
     "execution_count": 5,
     "metadata": {},
     "output_type": "execute_result"
    }
   ],
   "source": [
    "%%sql\n",
    "SELECT * FROM CITY LIMIT 3"
   ]
  },
  {
   "cell_type": "markdown",
   "metadata": {},
   "source": [
    "This table has knowledge about cities which are in  Turkey."
   ]
  },
  {
   "cell_type": "code",
   "execution_count": 39,
   "metadata": {},
   "outputs": [
    {
     "name": "stdout",
     "output_type": "stream",
     "text": [
      " * sqlite:///etrade.db\n",
      "Done.\n"
     ]
    },
    {
     "data": {
      "text/html": [
       "<table>\n",
       "    <tr>\n",
       "        <th>ID</th>\n",
       "        <th>CITYID</th>\n",
       "        <th>TOWN</th>\n",
       "    </tr>\n",
       "    <tr>\n",
       "        <td>1</td>\n",
       "        <td>37</td>\n",
       "        <td>ABANA</td>\n",
       "    </tr>\n",
       "    <tr>\n",
       "        <td>2</td>\n",
       "        <td>20</td>\n",
       "        <td>ACIPAYAM</td>\n",
       "    </tr>\n",
       "    <tr>\n",
       "        <td>3</td>\n",
       "        <td>34</td>\n",
       "        <td>ADALAR</td>\n",
       "    </tr>\n",
       "</table>"
      ],
      "text/plain": [
       "[(1, 37, 'ABANA'), (2, 20, 'ACIPAYAM'), (3, 34, 'ADALAR')]"
      ]
     },
     "execution_count": 39,
     "metadata": {},
     "output_type": "execute_result"
    }
   ],
   "source": [
    "%%sql\n",
    "SELECT * FROM TOWN LIMIT 3"
   ]
  },
  {
   "cell_type": "markdown",
   "metadata": {},
   "source": [
    "This table has knowledge about towns  which belongs Turkey's cities."
   ]
  },
  {
   "cell_type": "code",
   "execution_count": 221,
   "metadata": {},
   "outputs": [
    {
     "name": "stdout",
     "output_type": "stream",
     "text": [
      " * sqlite:///etrade.db\n",
      "Done.\n"
     ]
    },
    {
     "data": {
      "text/html": [
       "<table>\n",
       "    <tr>\n",
       "        <th>ID</th>\n",
       "        <th>TOWNID</th>\n",
       "        <th>DISTRICT</th>\n",
       "    </tr>\n",
       "    <tr>\n",
       "        <td>71204</td>\n",
       "        <td>20</td>\n",
       "        <td>ACIPINAR-BAHÇELİEVLER MAH.</td>\n",
       "    </tr>\n",
       "    <tr>\n",
       "        <td>71205</td>\n",
       "        <td>20</td>\n",
       "        <td>ACIPINAR-CERİT MAH.</td>\n",
       "    </tr>\n",
       "    <tr>\n",
       "        <td>71206</td>\n",
       "        <td>20</td>\n",
       "        <td>ACIPINAR-FATİH MAH.</td>\n",
       "    </tr>\n",
       "</table>"
      ],
      "text/plain": [
       "[(71204, 20, 'ACIPINAR-BAHÇELİEVLER MAH.'),\n",
       " (71205, 20, 'ACIPINAR-CERİT MAH.'),\n",
       " (71206, 20, 'ACIPINAR-FATİH MAH.')]"
      ]
     },
     "execution_count": 221,
     "metadata": {},
     "output_type": "execute_result"
    }
   ],
   "source": [
    "%%sql\n",
    "SELECT * FROM DISTRICT LIMIT 3"
   ]
  },
  {
   "cell_type": "markdown",
   "metadata": {},
   "source": [
    "This table has knowledge about districts  which belongs Turkey's cities' towns."
   ]
  },
  {
   "cell_type": "code",
   "execution_count": 12,
   "metadata": {},
   "outputs": [
    {
     "name": "stdout",
     "output_type": "stream",
     "text": [
      " * sqlite:///etrade.db\n",
      "Done.\n"
     ]
    },
    {
     "data": {
      "text/html": [
       "<table>\n",
       "    <tr>\n",
       "        <th>ID</th>\n",
       "        <th>CITYID</th>\n",
       "        <th>TOWNID</th>\n",
       "        <th>DISTRICTID</th>\n",
       "        <th>NEIGHBORHOODID</th>\n",
       "        <th>CITYNAME</th>\n",
       "        <th>TOWNNAME</th>\n",
       "        <th>DISTRICTNAME</th>\n",
       "        <th>NEIGHBORHOODNAME</th>\n",
       "        <th>STREETNAME</th>\n",
       "    </tr>\n",
       "    <tr>\n",
       "        <td>1</td>\n",
       "        <td>1</td>\n",
       "        <td>473</td>\n",
       "        <td>3195</td>\n",
       "        <td>78655</td>\n",
       "        <td>ADANA</td>\n",
       "        <td>POZANTI</td>\n",
       "        <td>AKÇATEKİR</td>\n",
       "        <td>AKÇATEKİR-HACILAR MAH.</td>\n",
       "        <td>607. SOKAK</td>\n",
       "    </tr>\n",
       "    <tr>\n",
       "        <td>2</td>\n",
       "        <td>1</td>\n",
       "        <td>473</td>\n",
       "        <td>3195</td>\n",
       "        <td>78655</td>\n",
       "        <td>ADANA</td>\n",
       "        <td>POZANTI</td>\n",
       "        <td>AKÇATEKİR</td>\n",
       "        <td>AKÇATEKİR-HACILAR MAH.</td>\n",
       "        <td>630. SOKAK</td>\n",
       "    </tr>\n",
       "    <tr>\n",
       "        <td>3</td>\n",
       "        <td>1</td>\n",
       "        <td>473</td>\n",
       "        <td>3195</td>\n",
       "        <td>78655</td>\n",
       "        <td>ADANA</td>\n",
       "        <td>POZANTI</td>\n",
       "        <td>AKÇATEKİR</td>\n",
       "        <td>AKÇATEKİR-HACILAR MAH.</td>\n",
       "        <td>602. SOKAK</td>\n",
       "    </tr>\n",
       "</table>"
      ],
      "text/plain": [
       "[(1, 1, 473, 3195, 78655, 'ADANA', 'POZANTI', 'AKÇATEKİR', 'AKÇATEKİR-HACILAR MAH.', '607. SOKAK'),\n",
       " (2, 1, 473, 3195, 78655, 'ADANA', 'POZANTI', 'AKÇATEKİR', 'AKÇATEKİR-HACILAR MAH.', '630. SOKAK'),\n",
       " (3, 1, 473, 3195, 78655, 'ADANA', 'POZANTI', 'AKÇATEKİR', 'AKÇATEKİR-HACILAR MAH.', '602. SOKAK')]"
      ]
     },
     "execution_count": 12,
     "metadata": {},
     "output_type": "execute_result"
    }
   ],
   "source": [
    "%%sql\n",
    "SELECT * FROM DISTRICT_STREET LIMIT 3"
   ]
  },
  {
   "cell_type": "markdown",
   "metadata": {},
   "source": [
    "This table has knowledge about districts  which belongs Turkey's cities' towns' districts' streetname."
   ]
  },
  {
   "cell_type": "code",
   "execution_count": 14,
   "metadata": {},
   "outputs": [
    {
     "name": "stdout",
     "output_type": "stream",
     "text": [
      " * sqlite:///etrade.db\n",
      "Done.\n"
     ]
    },
    {
     "data": {
      "text/html": [
       "<table>\n",
       "    <tr>\n",
       "        <th>ID</th>\n",
       "        <th>ITEMCODE</th>\n",
       "        <th>ITEMNAME</th>\n",
       "        <th>PRICE</th>\n",
       "        <th>CATEGORY1</th>\n",
       "        <th>CATEGORY2</th>\n",
       "        <th>CATEGORY3</th>\n",
       "    </tr>\n",
       "    <tr>\n",
       "        <td>1</td>\n",
       "        <td>25655</td>\n",
       "        <td>Reis Gönen Baldo Pirinç 2,5 kg</td>\n",
       "        <td>18.5</td>\n",
       "        <td>gida-yemek-malzemeleri</td>\n",
       "        <td>makarna-pirinc-ve-bakliyat</td>\n",
       "        <td>pirinc</td>\n",
       "    </tr>\n",
       "    <tr>\n",
       "        <td>2</td>\n",
       "        <td>25656</td>\n",
       "        <td>Reis Jasmine Pirinç 1 kg</td>\n",
       "        <td>8.5</td>\n",
       "        <td>gida-yemek-malzemeleri</td>\n",
       "        <td>makarna-pirinc-ve-bakliyat</td>\n",
       "        <td>pirinc</td>\n",
       "    </tr>\n",
       "    <tr>\n",
       "        <td>3</td>\n",
       "        <td>25657</td>\n",
       "        <td>Reis Kepekli Diyet Pirinç 1 kg</td>\n",
       "        <td>8.5</td>\n",
       "        <td>gida-yemek-malzemeleri</td>\n",
       "        <td>makarna-pirinc-ve-bakliyat</td>\n",
       "        <td>pirinc</td>\n",
       "    </tr>\n",
       "</table>"
      ],
      "text/plain": [
       "[(1, 25655, 'Reis Gönen Baldo Pirinç 2,5 kg', 18.5, 'gida-yemek-malzemeleri', 'makarna-pirinc-ve-bakliyat', 'pirinc'),\n",
       " (2, 25656, 'Reis Jasmine Pirinç 1 kg', 8.5, 'gida-yemek-malzemeleri', 'makarna-pirinc-ve-bakliyat', 'pirinc'),\n",
       " (3, 25657, 'Reis Kepekli Diyet Pirinç 1 kg', 8.5, 'gida-yemek-malzemeleri', 'makarna-pirinc-ve-bakliyat', 'pirinc')]"
      ]
     },
     "execution_count": 14,
     "metadata": {},
     "output_type": "execute_result"
    }
   ],
   "source": [
    "%%sql\n",
    "SELECT * FROM ITEM LIMIT 3"
   ]
  },
  {
   "cell_type": "markdown",
   "metadata": {},
   "source": [
    "This table has knowledge about items and their categories and price as well."
   ]
  },
  {
   "cell_type": "code",
   "execution_count": 15,
   "metadata": {},
   "outputs": [
    {
     "name": "stdout",
     "output_type": "stream",
     "text": [
      " * sqlite:///etrade.db\n",
      "Done.\n"
     ]
    },
    {
     "data": {
      "text/html": [
       "<table>\n",
       "    <tr>\n",
       "        <th>ID</th>\n",
       "        <th>USERID</th>\n",
       "        <th>CREATEDDATE</th>\n",
       "        <th>LASTMODIFIEDDATE</th>\n",
       "        <th>STATUS_</th>\n",
       "    </tr>\n",
       "    <tr>\n",
       "        <td>1</td>\n",
       "        <td>8938</td>\n",
       "        <td>2020-07-04 19:39:13.337</td>\n",
       "        <td>2020-07-04 19:43:55.337</td>\n",
       "        <td>1</td>\n",
       "    </tr>\n",
       "    <tr>\n",
       "        <td>2</td>\n",
       "        <td>3403</td>\n",
       "        <td>2021-01-19 19:40:27.557</td>\n",
       "        <td>2021-01-19 19:46:58.557</td>\n",
       "        <td>1</td>\n",
       "    </tr>\n",
       "    <tr>\n",
       "        <td>3</td>\n",
       "        <td>7981</td>\n",
       "        <td>2021-04-16 19:40:27.567</td>\n",
       "        <td>2021-04-16 19:44:04.567</td>\n",
       "        <td>1</td>\n",
       "    </tr>\n",
       "</table>"
      ],
      "text/plain": [
       "[(1, 8938, '2020-07-04 19:39:13.337', '2020-07-04 19:43:55.337', 1),\n",
       " (2, 3403, '2021-01-19 19:40:27.557', '2021-01-19 19:46:58.557', 1),\n",
       " (3, 7981, '2021-04-16 19:40:27.567', '2021-04-16 19:44:04.567', 1)]"
      ]
     },
     "execution_count": 15,
     "metadata": {},
     "output_type": "execute_result"
    }
   ],
   "source": [
    "%%sql\n",
    "SELECT * FROM BASKET LIMIT 3"
   ]
  },
  {
   "cell_type": "markdown",
   "metadata": {},
   "source": [
    "This table has knowledge about basket which indicates that  user add the items to their shopping basket.Status_ meaans the shopping was performed or not.It direcctly relates to user table."
   ]
  },
  {
   "cell_type": "code",
   "execution_count": 17,
   "metadata": {},
   "outputs": [
    {
     "name": "stdout",
     "output_type": "stream",
     "text": [
      " * sqlite:///etrade.db\n",
      "Done.\n"
     ]
    },
    {
     "data": {
      "text/html": [
       "<table>\n",
       "    <tr>\n",
       "        <th>ID</th>\n",
       "        <th>BASKETID</th>\n",
       "        <th>DATE_</th>\n",
       "        <th>ITEMID</th>\n",
       "        <th>AMOUNT</th>\n",
       "        <th>PRICE</th>\n",
       "        <th>TOTAL</th>\n",
       "    </tr>\n",
       "    <tr>\n",
       "        <td>1</td>\n",
       "        <td>1</td>\n",
       "        <td>2020-07-04 19:40:53.337</td>\n",
       "        <td>3786</td>\n",
       "        <td>3</td>\n",
       "        <td>16.85</td>\n",
       "        <td>50.55</td>\n",
       "    </tr>\n",
       "    <tr>\n",
       "        <td>2</td>\n",
       "        <td>1</td>\n",
       "        <td>2020-07-04 19:41:32.337</td>\n",
       "        <td>6567</td>\n",
       "        <td>2</td>\n",
       "        <td>10.9</td>\n",
       "        <td>21.8</td>\n",
       "    </tr>\n",
       "    <tr>\n",
       "        <td>3</td>\n",
       "        <td>1</td>\n",
       "        <td>2020-07-04 19:42:24.337</td>\n",
       "        <td>9896</td>\n",
       "        <td>2</td>\n",
       "        <td>3.2</td>\n",
       "        <td>6.4</td>\n",
       "    </tr>\n",
       "</table>"
      ],
      "text/plain": [
       "[(1, 1, '2020-07-04 19:40:53.337', 3786, 3, 16.85, 50.55),\n",
       " (2, 1, '2020-07-04 19:41:32.337', 6567, 2, 10.9, 21.8),\n",
       " (3, 1, '2020-07-04 19:42:24.337', 9896, 2, 3.2, 6.4)]"
      ]
     },
     "execution_count": 17,
     "metadata": {},
     "output_type": "execute_result"
    }
   ],
   "source": [
    "%%sql\n",
    "SELECT * FROM BASKETDETAIL LIMIT 3"
   ]
  },
  {
   "cell_type": "markdown",
   "metadata": {},
   "source": [
    "This table has knowledge about basketdetaiıl which indicates that user add what kind of  items to their shopping basket and it shows how many items is bought and what the total price is.It is directly relates to Basket table."
   ]
  },
  {
   "cell_type": "code",
   "execution_count": 18,
   "metadata": {},
   "outputs": [
    {
     "name": "stdout",
     "output_type": "stream",
     "text": [
      " * sqlite:///etrade.db\n",
      "Done.\n"
     ]
    },
    {
     "data": {
      "text/html": [
       "<table>\n",
       "    <tr>\n",
       "        <th>ID</th>\n",
       "        <th>USERID</th>\n",
       "        <th>ADDRESSID</th>\n",
       "        <th>BASKETID</th>\n",
       "        <th>DATE_</th>\n",
       "        <th>STATUS_</th>\n",
       "    </tr>\n",
       "    <tr>\n",
       "        <td>1</td>\n",
       "        <td>8938</td>\n",
       "        <td>22282</td>\n",
       "        <td>1</td>\n",
       "        <td>2020-07-04 19:43:58.337</td>\n",
       "        <td>1</td>\n",
       "    </tr>\n",
       "    <tr>\n",
       "        <td>2</td>\n",
       "        <td>3403</td>\n",
       "        <td>8464</td>\n",
       "        <td>2</td>\n",
       "        <td>2021-01-19 19:47:09.557</td>\n",
       "        <td>1</td>\n",
       "    </tr>\n",
       "    <tr>\n",
       "        <td>3</td>\n",
       "        <td>7981</td>\n",
       "        <td>19914</td>\n",
       "        <td>3</td>\n",
       "        <td>2021-04-16 19:44:13.567</td>\n",
       "        <td>1</td>\n",
       "    </tr>\n",
       "</table>"
      ],
      "text/plain": [
       "[(1, 8938, 22282, 1, '2020-07-04 19:43:58.337', 1),\n",
       " (2, 3403, 8464, 2, '2021-01-19 19:47:09.557', 1),\n",
       " (3, 7981, 19914, 3, '2021-04-16 19:44:13.567', 1)]"
      ]
     },
     "execution_count": 18,
     "metadata": {},
     "output_type": "execute_result"
    }
   ],
   "source": [
    "%%sql\n",
    "SELECT * FROM ORDER_ LIMIT 3"
   ]
  },
  {
   "cell_type": "markdown",
   "metadata": {},
   "source": [
    "This table has knowledge about user's order which indicates that the user tries to buy items which are in their shopping basket.It is directly relates user,address and basket table."
   ]
  },
  {
   "cell_type": "code",
   "execution_count": 19,
   "metadata": {},
   "outputs": [
    {
     "name": "stdout",
     "output_type": "stream",
     "text": [
      " * sqlite:///etrade.db\n",
      "Done.\n"
     ]
    },
    {
     "data": {
      "text/html": [
       "<table>\n",
       "    <tr>\n",
       "        <th>ID</th>\n",
       "        <th>ORDERID</th>\n",
       "        <th>BASKETDETAILID</th>\n",
       "        <th>ITEMID</th>\n",
       "        <th>AMOUNT</th>\n",
       "        <th>PRICE</th>\n",
       "        <th>TOTALPRICE</th>\n",
       "    </tr>\n",
       "    <tr>\n",
       "        <td>1</td>\n",
       "        <td>1</td>\n",
       "        <td>1</td>\n",
       "        <td>3786</td>\n",
       "        <td>3</td>\n",
       "        <td>16.85</td>\n",
       "        <td>50.55</td>\n",
       "    </tr>\n",
       "    <tr>\n",
       "        <td>2</td>\n",
       "        <td>1</td>\n",
       "        <td>2</td>\n",
       "        <td>6567</td>\n",
       "        <td>2</td>\n",
       "        <td>10.9</td>\n",
       "        <td>21.8</td>\n",
       "    </tr>\n",
       "    <tr>\n",
       "        <td>3</td>\n",
       "        <td>1</td>\n",
       "        <td>3</td>\n",
       "        <td>9896</td>\n",
       "        <td>2</td>\n",
       "        <td>3.2</td>\n",
       "        <td>6.4</td>\n",
       "    </tr>\n",
       "</table>"
      ],
      "text/plain": [
       "[(1, 1, 1, 3786, 3, 16.85, 50.55),\n",
       " (2, 1, 2, 6567, 2, 10.9, 21.8),\n",
       " (3, 1, 3, 9896, 2, 3.2, 6.4)]"
      ]
     },
     "execution_count": 19,
     "metadata": {},
     "output_type": "execute_result"
    }
   ],
   "source": [
    "%%sql\n",
    "SELECT * FROM ORDERDETAIL LIMIT 3"
   ]
  },
  {
   "cell_type": "markdown",
   "metadata": {},
   "source": [
    "This table has knowledge about user's order detail which indicates that the user tries to buy items which are in their shopping basket.It is directly relates user,address and basket table.Also,it shows how many items is bought and what the total price is."
   ]
  },
  {
   "cell_type": "code",
   "execution_count": 8,
   "metadata": {},
   "outputs": [
    {
     "name": "stdout",
     "output_type": "stream",
     "text": [
      " * sqlite:///etrade.db\n",
      "Done.\n"
     ]
    },
    {
     "data": {
      "text/html": [
       "<table>\n",
       "    <tr>\n",
       "        <th>ID</th>\n",
       "        <th>BASKETID</th>\n",
       "        <th>TOTALPRICE</th>\n",
       "        <th>PAYMENTTYPE</th>\n",
       "        <th>DATE_</th>\n",
       "        <th>ISOK</th>\n",
       "        <th>APPROVECODE</th>\n",
       "        <th>ERROR_</th>\n",
       "    </tr>\n",
       "    <tr>\n",
       "        <td>1</td>\n",
       "        <td>1</td>\n",
       "        <td>89.35</td>\n",
       "        <td>2</td>\n",
       "        <td>2020-07-04 19:43:58.337</td>\n",
       "        <td>1</td>\n",
       "        <td>OK1737362</td>\n",
       "        <td>None</td>\n",
       "    </tr>\n",
       "    <tr>\n",
       "        <td>2</td>\n",
       "        <td>2</td>\n",
       "        <td>1560</td>\n",
       "        <td>5</td>\n",
       "        <td>2021-01-19 19:47:09.557</td>\n",
       "        <td>1</td>\n",
       "        <td>OK2737693</td>\n",
       "        <td>None</td>\n",
       "    </tr>\n",
       "    <tr>\n",
       "        <td>3</td>\n",
       "        <td>3</td>\n",
       "        <td>5708.25</td>\n",
       "        <td>2</td>\n",
       "        <td>2021-04-16 19:44:13.567</td>\n",
       "        <td>1</td>\n",
       "        <td>OK3737694</td>\n",
       "        <td>None</td>\n",
       "    </tr>\n",
       "</table>"
      ],
      "text/plain": [
       "[(1, 1, '89.35', 2, '2020-07-04 19:43:58.337', 1, 'OK1737362', None),\n",
       " (2, 2, '1560', 5, '2021-01-19 19:47:09.557', 1, 'OK2737693', None),\n",
       " (3, 3, '5708.25', 2, '2021-04-16 19:44:13.567', 1, 'OK3737694', None)]"
      ]
     },
     "execution_count": 8,
     "metadata": {},
     "output_type": "execute_result"
    }
   ],
   "source": [
    "%%sql\n",
    "SELECT * FROM PAYMENT LIMIT 3"
   ]
  },
  {
   "cell_type": "code",
   "execution_count": 9,
   "metadata": {},
   "outputs": [
    {
     "name": "stdout",
     "output_type": "stream",
     "text": [
      " * sqlite:///etrade.db\n",
      "Done.\n"
     ]
    },
    {
     "data": {
      "text/html": [
       "<table>\n",
       "    <tr>\n",
       "        <th>ID</th>\n",
       "        <th>ORDERID</th>\n",
       "        <th>INVOICENO</th>\n",
       "        <th>DATE_</th>\n",
       "        <th>CARGOFNO</th>\n",
       "        <th>STATUS_</th>\n",
       "    </tr>\n",
       "    <tr>\n",
       "        <td>1</td>\n",
       "        <td>1</td>\n",
       "        <td>03062021-193913</td>\n",
       "        <td>2020-07-08 18:04:30.337</td>\n",
       "        <td>CRG03062021-193913</td>\n",
       "        <td>1</td>\n",
       "    </tr>\n",
       "    <tr>\n",
       "        <td>2</td>\n",
       "        <td>2</td>\n",
       "        <td>03062021-194027</td>\n",
       "        <td>2021-01-22 01:10:49.557</td>\n",
       "        <td>CRG03062021-194027</td>\n",
       "        <td>1</td>\n",
       "    </tr>\n",
       "    <tr>\n",
       "        <td>3</td>\n",
       "        <td>3</td>\n",
       "        <td>03062021-194027</td>\n",
       "        <td>2021-04-18 14:14:16.567</td>\n",
       "        <td>CRG03062021-194027</td>\n",
       "        <td>1</td>\n",
       "    </tr>\n",
       "</table>"
      ],
      "text/plain": [
       "[(1, 1, '03062021-193913', '2020-07-08 18:04:30.337', 'CRG03062021-193913', 1),\n",
       " (2, 2, '03062021-194027', '2021-01-22 01:10:49.557', 'CRG03062021-194027', 1),\n",
       " (3, 3, '03062021-194027', '2021-04-18 14:14:16.567', 'CRG03062021-194027', 1)]"
      ]
     },
     "execution_count": 9,
     "metadata": {},
     "output_type": "execute_result"
    }
   ],
   "source": [
    "%%sql\n",
    "SELECT * FROM INVOICE LIMIT 3"
   ]
  },
  {
   "cell_type": "markdown",
   "metadata": {},
   "source": [
    "This invoice table has knowledge about user's invoice which includes invoiceno and cargo tracking number.The status show they payment was done or not."
   ]
  },
  {
   "cell_type": "code",
   "execution_count": 207,
   "metadata": {},
   "outputs": [
    {
     "name": "stdout",
     "output_type": "stream",
     "text": [
      " * sqlite:///etrade.db\n",
      "Done.\n"
     ]
    },
    {
     "data": {
      "text/html": [
       "<table>\n",
       "    <tr>\n",
       "        <th>ID</th>\n",
       "        <th>INVOICEID</th>\n",
       "        <th>ORDERDETAILID</th>\n",
       "        <th>ITEMID</th>\n",
       "        <th>PRICE</th>\n",
       "        <th>AMOUNT</th>\n",
       "        <th>TOTALPRICE</th>\n",
       "    </tr>\n",
       "    <tr>\n",
       "        <td>1</td>\n",
       "        <td>1</td>\n",
       "        <td>1</td>\n",
       "        <td>3786</td>\n",
       "        <td>16.85</td>\n",
       "        <td>3</td>\n",
       "        <td>50.55</td>\n",
       "    </tr>\n",
       "    <tr>\n",
       "        <td>2</td>\n",
       "        <td>1</td>\n",
       "        <td>2</td>\n",
       "        <td>6567</td>\n",
       "        <td>10.9</td>\n",
       "        <td>2</td>\n",
       "        <td>21.8</td>\n",
       "    </tr>\n",
       "    <tr>\n",
       "        <td>3</td>\n",
       "        <td>1</td>\n",
       "        <td>3</td>\n",
       "        <td>9896</td>\n",
       "        <td>3.2</td>\n",
       "        <td>2</td>\n",
       "        <td>6.4</td>\n",
       "    </tr>\n",
       "</table>"
      ],
      "text/plain": [
       "[(1, 1, 1, 3786, 16.85, 3, 50.55),\n",
       " (2, 1, 2, 6567, 10.9, 2, 21.8),\n",
       " (3, 1, 3, 9896, 3.2, 2, 6.4)]"
      ]
     },
     "execution_count": 207,
     "metadata": {},
     "output_type": "execute_result"
    }
   ],
   "source": [
    "%%sql\n",
    "SELECT * FROM INVOICEDETAIL LIMIT 3"
   ]
  },
  {
   "cell_type": "markdown",
   "metadata": {},
   "source": [
    "This table has knowledge about user's invoice detail which includes items information and the table is related to invoice and orderdetail tables also.Additionally,the table has total price which was paid by user."
   ]
  },
  {
   "cell_type": "markdown",
   "metadata": {},
   "source": [
    "## DATA CLEANING&MANIPULATION "
   ]
  },
  {
   "cell_type": "markdown",
   "metadata": {},
   "source": [
    "I am gonna analyse table content and reform them if it is necessary."
   ]
  },
  {
   "cell_type": "code",
   "execution_count": 1,
   "metadata": {},
   "outputs": [],
   "source": [
    "import pandas as pd"
   ]
  },
  {
   "cell_type": "code",
   "execution_count": 2,
   "metadata": {},
   "outputs": [],
   "source": [
    "import sqlite3"
   ]
  },
  {
   "cell_type": "code",
   "execution_count": 3,
   "metadata": {},
   "outputs": [],
   "source": [
    "conn = sqlite3.connect('etrade.db')"
   ]
  },
  {
   "cell_type": "code",
   "execution_count": 4,
   "metadata": {},
   "outputs": [],
   "source": [
    "cursor=conn.cursor()"
   ]
  },
  {
   "cell_type": "code",
   "execution_count": 5,
   "metadata": {},
   "outputs": [],
   "source": [
    "### USER TABLE"
   ]
  },
  {
   "cell_type": "code",
   "execution_count": 6,
   "metadata": {},
   "outputs": [],
   "source": [
    "df_user=pd.read_sql_query(\"SELECT * FROM user;\", conn)"
   ]
  },
  {
   "cell_type": "code",
   "execution_count": 7,
   "metadata": {},
   "outputs": [
    {
     "data": {
      "text/plain": [
       "RangeIndex(start=0, stop=10000, step=1)"
      ]
     },
     "execution_count": 7,
     "metadata": {},
     "output_type": "execute_result"
    }
   ],
   "source": [
    "df_user.index"
   ]
  },
  {
   "cell_type": "code",
   "execution_count": 13,
   "metadata": {},
   "outputs": [
    {
     "data": {
      "text/plain": [
       "ID             0\n",
       "USERNAME_      0\n",
       "PASSWORD_      0\n",
       "NAMESURNAME    0\n",
       "EMAIL          0\n",
       "GENDER         0\n",
       "CREATEDDATE    0\n",
       "BIRTHDATE      0\n",
       "TELNR1         0\n",
       "TELNR2         0\n",
       "dtype: int64"
      ]
     },
     "execution_count": 13,
     "metadata": {},
     "output_type": "execute_result"
    }
   ],
   "source": [
    "df_user.isnull().sum()"
   ]
  },
  {
   "cell_type": "markdown",
   "metadata": {},
   "source": [
    " ### There is no null value in the user table and are 10000 user data in the user table."
   ]
  },
  {
   "cell_type": "code",
   "execution_count": 14,
   "metadata": {},
   "outputs": [],
   "source": [
    "df_address=pd.read_sql_query(\"SELECT * FROM ADDRESS;\",conn)"
   ]
  },
  {
   "cell_type": "code",
   "execution_count": 15,
   "metadata": {},
   "outputs": [],
   "source": [
    "###ADDRESS TABLE"
   ]
  },
  {
   "cell_type": "code",
   "execution_count": 16,
   "metadata": {},
   "outputs": [
    {
     "data": {
      "text/plain": [
       "RangeIndex(start=0, stop=24945, step=1)"
      ]
     },
     "execution_count": 16,
     "metadata": {},
     "output_type": "execute_result"
    }
   ],
   "source": [
    "df_address.index"
   ]
  },
  {
   "cell_type": "code",
   "execution_count": 17,
   "metadata": {},
   "outputs": [
    {
     "data": {
      "text/plain": [
       "ID             0\n",
       "USERID         0\n",
       "ADDRESSTYPE    0\n",
       "COUNTRYID      0\n",
       "CITYID         0\n",
       "TOWNID         0\n",
       "DISTRICTID     0\n",
       "POSTALCODE     0\n",
       "ADDRESSTEXT    0\n",
       "dtype: int64"
      ]
     },
     "execution_count": 17,
     "metadata": {},
     "output_type": "execute_result"
    }
   ],
   "source": [
    "df_address.isnull().sum()"
   ]
  },
  {
   "cell_type": "markdown",
   "metadata": {},
   "source": [
    "### There is no null value in the address table and are 24945 address data in the address table."
   ]
  },
  {
   "cell_type": "code",
   "execution_count": 18,
   "metadata": {},
   "outputs": [],
   "source": [
    "###COUNTRY TABLE"
   ]
  },
  {
   "cell_type": "code",
   "execution_count": 19,
   "metadata": {},
   "outputs": [],
   "source": [
    "\n",
    "df_country=pd.read_sql_query(\"SELECT * FROM COUNTRY\",conn)"
   ]
  },
  {
   "cell_type": "code",
   "execution_count": 20,
   "metadata": {},
   "outputs": [
    {
     "data": {
      "text/plain": [
       "RangeIndex(start=0, stop=1, step=1)"
      ]
     },
     "execution_count": 20,
     "metadata": {},
     "output_type": "execute_result"
    }
   ],
   "source": [
    "df_country.index"
   ]
  },
  {
   "cell_type": "code",
   "execution_count": 21,
   "metadata": {},
   "outputs": [
    {
     "data": {
      "text/plain": [
       "ID         0\n",
       "COUNTRY    0\n",
       "dtype: int64"
      ]
     },
     "execution_count": 21,
     "metadata": {},
     "output_type": "execute_result"
    }
   ],
   "source": [
    "df_country.isnull().sum()"
   ]
  },
  {
   "cell_type": "markdown",
   "metadata": {},
   "source": [
    "### There is no null value in the country table and is just 1 data in the user table."
   ]
  },
  {
   "cell_type": "code",
   "execution_count": 73,
   "metadata": {},
   "outputs": [],
   "source": [
    "###CITY TABLE"
   ]
  },
  {
   "cell_type": "code",
   "execution_count": 22,
   "metadata": {},
   "outputs": [],
   "source": [
    "df_city=pd.read_sql_query(\"SELECT * FROM CITY\",conn)"
   ]
  },
  {
   "cell_type": "code",
   "execution_count": 23,
   "metadata": {},
   "outputs": [],
   "source": [
    "df_city=pd.read_sql_query(\"SELECT * FROM TOWN\",conn)"
   ]
  },
  {
   "cell_type": "code",
   "execution_count": 24,
   "metadata": {},
   "outputs": [
    {
     "data": {
      "text/plain": [
       "RangeIndex(start=0, stop=957, step=1)"
      ]
     },
     "execution_count": 24,
     "metadata": {},
     "output_type": "execute_result"
    }
   ],
   "source": [
    "df_city.index"
   ]
  },
  {
   "cell_type": "code",
   "execution_count": 25,
   "metadata": {},
   "outputs": [
    {
     "data": {
      "text/plain": [
       "ID        0\n",
       "CITYID    0\n",
       "TOWN      0\n",
       "dtype: int64"
      ]
     },
     "execution_count": 25,
     "metadata": {},
     "output_type": "execute_result"
    }
   ],
   "source": [
    "df_city.isnull().sum()"
   ]
  },
  {
   "cell_type": "markdown",
   "metadata": {},
   "source": [
    "### There is no null value in the city table and is just 81 data in the city table which comprise all the cities in Turkey."
   ]
  },
  {
   "cell_type": "code",
   "execution_count": 26,
   "metadata": {},
   "outputs": [],
   "source": [
    "###TOWN TABLE"
   ]
  },
  {
   "cell_type": "code",
   "execution_count": 27,
   "metadata": {},
   "outputs": [],
   "source": [
    "df_town=pd.read_sql_query(\"SELECT * FROM TOWN\",conn)"
   ]
  },
  {
   "cell_type": "code",
   "execution_count": 28,
   "metadata": {},
   "outputs": [
    {
     "data": {
      "text/plain": [
       "RangeIndex(start=0, stop=957, step=1)"
      ]
     },
     "execution_count": 28,
     "metadata": {},
     "output_type": "execute_result"
    }
   ],
   "source": [
    "df_town.index"
   ]
  },
  {
   "cell_type": "code",
   "execution_count": 29,
   "metadata": {},
   "outputs": [
    {
     "data": {
      "text/plain": [
       "ID        0\n",
       "CITYID    0\n",
       "TOWN      0\n",
       "dtype: int64"
      ]
     },
     "execution_count": 29,
     "metadata": {},
     "output_type": "execute_result"
    }
   ],
   "source": [
    "df_town.isnull().sum()"
   ]
  },
  {
   "cell_type": "markdown",
   "metadata": {},
   "source": [
    "### There is no null value in the town table and are 957 data in the town table which comprise all the towns in Turkey."
   ]
  },
  {
   "cell_type": "code",
   "execution_count": 30,
   "metadata": {},
   "outputs": [],
   "source": [
    "###DISTRICT TABLE"
   ]
  },
  {
   "cell_type": "code",
   "execution_count": 31,
   "metadata": {},
   "outputs": [],
   "source": [
    "df_district=pd.read_sql_query(\"SELECT * FROM DISTRICT\",conn)"
   ]
  },
  {
   "cell_type": "code",
   "execution_count": 32,
   "metadata": {},
   "outputs": [
    {
     "data": {
      "text/plain": [
       "RangeIndex(start=0, stop=53145, step=1)"
      ]
     },
     "execution_count": 32,
     "metadata": {},
     "output_type": "execute_result"
    }
   ],
   "source": [
    "df_district.index"
   ]
  },
  {
   "cell_type": "code",
   "execution_count": 33,
   "metadata": {},
   "outputs": [
    {
     "data": {
      "text/plain": [
       "ID          0\n",
       "TOWNID      0\n",
       "DISTRICT    0\n",
       "dtype: int64"
      ]
     },
     "execution_count": 33,
     "metadata": {},
     "output_type": "execute_result"
    }
   ],
   "source": [
    "df_district.isnull().sum()"
   ]
  },
  {
   "cell_type": "markdown",
   "metadata": {},
   "source": [
    "### There is no null value in the city table and are 53145  data in the district table which comprise all the districts in Turkey."
   ]
  },
  {
   "cell_type": "code",
   "execution_count": 34,
   "metadata": {},
   "outputs": [],
   "source": [
    "###DISTRICT_STREET TABLE"
   ]
  },
  {
   "cell_type": "code",
   "execution_count": 35,
   "metadata": {},
   "outputs": [],
   "source": [
    "df_district_street=pd.read_sql_query(\"SELECT * FROM DISTRICT_STREET\",conn)"
   ]
  },
  {
   "cell_type": "code",
   "execution_count": 36,
   "metadata": {},
   "outputs": [
    {
     "data": {
      "text/plain": [
       "RangeIndex(start=0, stop=856682, step=1)"
      ]
     },
     "execution_count": 36,
     "metadata": {},
     "output_type": "execute_result"
    }
   ],
   "source": [
    "df_district_street.index"
   ]
  },
  {
   "cell_type": "code",
   "execution_count": 37,
   "metadata": {},
   "outputs": [
    {
     "data": {
      "text/plain": [
       "ID                  0\n",
       "CITYID              0\n",
       "TOWNID              0\n",
       "DISTRICTID          0\n",
       "NEIGHBORHOODID      0\n",
       "CITYNAME            0\n",
       "TOWNNAME            0\n",
       "DISTRICTNAME        0\n",
       "NEIGHBORHOODNAME    0\n",
       "STREETNAME          0\n",
       "dtype: int64"
      ]
     },
     "execution_count": 37,
     "metadata": {},
     "output_type": "execute_result"
    }
   ],
   "source": [
    "df_district_street.isnull().sum()"
   ]
  },
  {
   "cell_type": "markdown",
   "metadata": {},
   "source": [
    "### There is no null value in the district_street table and are 856682 data in the district_streeet table which comprise all the district_streeet in Turkey."
   ]
  },
  {
   "cell_type": "code",
   "execution_count": 38,
   "metadata": {},
   "outputs": [],
   "source": [
    "###ITEM TABLE"
   ]
  },
  {
   "cell_type": "code",
   "execution_count": 39,
   "metadata": {},
   "outputs": [],
   "source": [
    "df_item=pd.read_sql_query(\"SELECT * FROM ITEM\",conn)"
   ]
  },
  {
   "cell_type": "code",
   "execution_count": 40,
   "metadata": {},
   "outputs": [
    {
     "data": {
      "text/plain": [
       "RangeIndex(start=0, stop=28110, step=1)"
      ]
     },
     "execution_count": 40,
     "metadata": {},
     "output_type": "execute_result"
    }
   ],
   "source": [
    "df_item.index"
   ]
  },
  {
   "cell_type": "markdown",
   "metadata": {},
   "source": [
    "df_item.isnull().sum()"
   ]
  },
  {
   "cell_type": "markdown",
   "metadata": {},
   "source": [
    "### There is no null value in the item table and are 28110 data in the item table.Among these items, the users are going to shop and buy whatever they want."
   ]
  },
  {
   "cell_type": "code",
   "execution_count": 41,
   "metadata": {},
   "outputs": [],
   "source": [
    "### BASKET TABLE"
   ]
  },
  {
   "cell_type": "code",
   "execution_count": 42,
   "metadata": {},
   "outputs": [],
   "source": [
    "df_basket=pd.read_sql_query(\"SELECT * FROM BASKET\",conn)"
   ]
  },
  {
   "cell_type": "code",
   "execution_count": 43,
   "metadata": {},
   "outputs": [
    {
     "data": {
      "text/plain": [
       "RangeIndex(start=0, stop=44919, step=1)"
      ]
     },
     "execution_count": 43,
     "metadata": {},
     "output_type": "execute_result"
    }
   ],
   "source": [
    "df_basket.index"
   ]
  },
  {
   "cell_type": "code",
   "execution_count": 44,
   "metadata": {},
   "outputs": [
    {
     "data": {
      "text/plain": [
       "ID        0\n",
       "CITYID    0\n",
       "TOWN      0\n",
       "dtype: int64"
      ]
     },
     "execution_count": 44,
     "metadata": {},
     "output_type": "execute_result"
    }
   ],
   "source": [
    "df_city.isnull().sum()"
   ]
  },
  {
   "cell_type": "markdown",
   "metadata": {},
   "source": [
    "### There is no null value in the basket table and  44919 data are in basket data table."
   ]
  },
  {
   "cell_type": "markdown",
   "metadata": {},
   "source": [
    "### BASKETDETAIL TABLE"
   ]
  },
  {
   "cell_type": "code",
   "execution_count": 45,
   "metadata": {},
   "outputs": [],
   "source": [
    "df_basketdetail=pd.read_sql_query(\"SELECT * FROM BASKETDETAIL\",conn)"
   ]
  },
  {
   "cell_type": "code",
   "execution_count": 46,
   "metadata": {},
   "outputs": [
    {
     "data": {
      "text/plain": [
       "RangeIndex(start=0, stop=201315, step=1)"
      ]
     },
     "execution_count": 46,
     "metadata": {},
     "output_type": "execute_result"
    }
   ],
   "source": [
    "df_basketdetail.index"
   ]
  },
  {
   "cell_type": "code",
   "execution_count": 47,
   "metadata": {},
   "outputs": [
    {
     "data": {
      "text/plain": [
       "ID          0\n",
       "BASKETID    0\n",
       "DATE_       0\n",
       "ITEMID      0\n",
       "AMOUNT      0\n",
       "PRICE       0\n",
       "TOTAL       0\n",
       "dtype: int64"
      ]
     },
     "execution_count": 47,
     "metadata": {},
     "output_type": "execute_result"
    }
   ],
   "source": [
    "df_basketdetail.isnull().sum()"
   ]
  },
  {
   "cell_type": "markdown",
   "metadata": {},
   "source": [
    "### There is no null value in the city basketdetail table  and are 201315 data in the basketdetail table which comprises all the items the users add to their basket."
   ]
  },
  {
   "cell_type": "code",
   "execution_count": 48,
   "metadata": {},
   "outputs": [],
   "source": [
    "###ORDER_ TABLE"
   ]
  },
  {
   "cell_type": "code",
   "execution_count": 49,
   "metadata": {},
   "outputs": [],
   "source": [
    "df_order=pd.read_sql_query(\"SELECT * FROM ORDER_\",conn)"
   ]
  },
  {
   "cell_type": "code",
   "execution_count": 50,
   "metadata": {},
   "outputs": [
    {
     "data": {
      "text/plain": [
       "RangeIndex(start=0, stop=44914, step=1)"
      ]
     },
     "execution_count": 50,
     "metadata": {},
     "output_type": "execute_result"
    }
   ],
   "source": [
    "df_order.index"
   ]
  },
  {
   "cell_type": "code",
   "execution_count": 51,
   "metadata": {},
   "outputs": [
    {
     "data": {
      "text/plain": [
       "ID        0\n",
       "CITYID    0\n",
       "TOWN      0\n",
       "dtype: int64"
      ]
     },
     "execution_count": 51,
     "metadata": {},
     "output_type": "execute_result"
    }
   ],
   "source": [
    "df_city.isnull().sum()"
   ]
  },
  {
   "cell_type": "markdown",
   "metadata": {},
   "source": [
    "### There is no null value in the order_ table and are 44914 data in the order_ table which means that the users bought the products were added to their basket.The shopping was performed."
   ]
  },
  {
   "cell_type": "code",
   "execution_count": 52,
   "metadata": {},
   "outputs": [],
   "source": [
    "###ORDERDETAIL TABLE"
   ]
  },
  {
   "cell_type": "code",
   "execution_count": 53,
   "metadata": {},
   "outputs": [],
   "source": [
    "df_orderdetail=pd.read_sql_query(\"SELECT * FROM ORDERDETAIL\",conn)"
   ]
  },
  {
   "cell_type": "code",
   "execution_count": 54,
   "metadata": {},
   "outputs": [
    {
     "data": {
      "text/plain": [
       "RangeIndex(start=0, stop=44914, step=1)"
      ]
     },
     "execution_count": 54,
     "metadata": {},
     "output_type": "execute_result"
    }
   ],
   "source": [
    "df_order.index"
   ]
  },
  {
   "cell_type": "code",
   "execution_count": 55,
   "metadata": {},
   "outputs": [
    {
     "data": {
      "text/plain": [
       "ID        0\n",
       "CITYID    0\n",
       "TOWN      0\n",
       "dtype: int64"
      ]
     },
     "execution_count": 55,
     "metadata": {},
     "output_type": "execute_result"
    }
   ],
   "source": [
    "df_city.isnull().sum()"
   ]
  },
  {
   "cell_type": "markdown",
   "metadata": {},
   "source": [
    "### There is no null value in the orderdetail table and are 44914 data in the that table which indicates detail of shopping.The order_ table and orderdetail table have same data as can be seen."
   ]
  },
  {
   "cell_type": "code",
   "execution_count": 56,
   "metadata": {},
   "outputs": [],
   "source": [
    "###PAYMENT TABLE"
   ]
  },
  {
   "cell_type": "code",
   "execution_count": 57,
   "metadata": {},
   "outputs": [],
   "source": [
    "df_payment=pd.read_sql_query(\"SELECT * FROM PAYMENT\",conn)"
   ]
  },
  {
   "cell_type": "code",
   "execution_count": 58,
   "metadata": {},
   "outputs": [
    {
     "data": {
      "text/plain": [
       "RangeIndex(start=0, stop=44914, step=1)"
      ]
     },
     "execution_count": 58,
     "metadata": {},
     "output_type": "execute_result"
    }
   ],
   "source": [
    "df_payment.index"
   ]
  },
  {
   "cell_type": "code",
   "execution_count": 59,
   "metadata": {},
   "outputs": [
    {
     "data": {
      "text/plain": [
       "ID        0\n",
       "CITYID    0\n",
       "TOWN      0\n",
       "dtype: int64"
      ]
     },
     "execution_count": 59,
     "metadata": {},
     "output_type": "execute_result"
    }
   ],
   "source": [
    "df_city.isnull().sum()"
   ]
  },
  {
   "cell_type": "markdown",
   "metadata": {},
   "source": [
    "### There is no null value in the payment table and are 44914 data in the that table which indicates the shopping payment was valid or not.If it is valid, passing to invoice step."
   ]
  },
  {
   "cell_type": "code",
   "execution_count": 60,
   "metadata": {},
   "outputs": [],
   "source": [
    "###INVOICE TABLE"
   ]
  },
  {
   "cell_type": "code",
   "execution_count": 61,
   "metadata": {},
   "outputs": [],
   "source": [
    "df_invoice=pd.read_sql_query(\"SELECT * FROM INVOICE\",conn)"
   ]
  },
  {
   "cell_type": "code",
   "execution_count": 62,
   "metadata": {},
   "outputs": [
    {
     "data": {
      "text/plain": [
       "RangeIndex(start=0, stop=44914, step=1)"
      ]
     },
     "execution_count": 62,
     "metadata": {},
     "output_type": "execute_result"
    }
   ],
   "source": [
    "df_invoice.index"
   ]
  },
  {
   "cell_type": "code",
   "execution_count": 63,
   "metadata": {
    "jupyter": {
     "source_hidden": true
    }
   },
   "outputs": [
    {
     "data": {
      "text/plain": [
       "ID        0\n",
       "CITYID    0\n",
       "TOWN      0\n",
       "dtype: int64"
      ]
     },
     "execution_count": 63,
     "metadata": {},
     "output_type": "execute_result"
    }
   ],
   "source": [
    "df_city.isnull().sum()"
   ]
  },
  {
   "cell_type": "code",
   "execution_count": 64,
   "metadata": {
    "jupyter": {
     "source_hidden": true
    }
   },
   "outputs": [
    {
     "data": {
      "text/plain": [
       "ID           0\n",
       "ORDERID      0\n",
       "INVOICENO    0\n",
       "DATE_        0\n",
       "CARGOFNO     0\n",
       "STATUS_      0\n",
       "dtype: int64"
      ]
     },
     "execution_count": 64,
     "metadata": {},
     "output_type": "execute_result"
    }
   ],
   "source": [
    "df_invoice.isnull().sum()"
   ]
  },
  {
   "cell_type": "markdown",
   "metadata": {},
   "source": [
    "### There is no null value in the invoice table and are 44914 data in the that table.That table includes information that shows cargo no and creation of the invoice."
   ]
  },
  {
   "cell_type": "code",
   "execution_count": 65,
   "metadata": {},
   "outputs": [],
   "source": [
    "###INVOICEDETAIL TABLE"
   ]
  },
  {
   "cell_type": "code",
   "execution_count": 66,
   "metadata": {},
   "outputs": [],
   "source": [
    "df_invoicedetail=pd.read_sql_query(\"SELECT * FROM INVOICEDETAIL\",conn)"
   ]
  },
  {
   "cell_type": "code",
   "execution_count": 67,
   "metadata": {},
   "outputs": [
    {
     "data": {
      "text/plain": [
       "RangeIndex(start=0, stop=201301, step=1)"
      ]
     },
     "execution_count": 67,
     "metadata": {},
     "output_type": "execute_result"
    }
   ],
   "source": [
    "df_invoicedetail.index"
   ]
  },
  {
   "cell_type": "code",
   "execution_count": 68,
   "metadata": {},
   "outputs": [
    {
     "data": {
      "text/plain": [
       "ID               0\n",
       "INVOICEID        0\n",
       "ORDERDETAILID    0\n",
       "ITEMID           0\n",
       "PRICE            0\n",
       "AMOUNT           0\n",
       "TOTALPRICE       0\n",
       "dtype: int64"
      ]
     },
     "execution_count": 68,
     "metadata": {},
     "output_type": "execute_result"
    }
   ],
   "source": [
    "df_invoicedetail.isnull().sum()"
   ]
  },
  {
   "cell_type": "markdown",
   "metadata": {},
   "source": [
    " There is no null value in the invoicedetail table and are 201301 data in the that table.That table includes information that shows total amount and price of items and related to orderdetail,item and invoice tables directly."
   ]
  },
  {
   "cell_type": "markdown",
   "metadata": {},
   "source": [
    "#####  *We have a look over all the tables briefly and try to learn how the tables are big and what kind of information they include. Now, it is time to ask some question and try to derive information which are disguised in the tables.*"
   ]
  },
  {
   "cell_type": "markdown",
   "metadata": {},
   "source": [
    "#### Question 1: Bring me the users information with their address text and provide information that includes the users address number which are not in the same city."
   ]
  },
  {
   "cell_type": "code",
   "execution_count": 69,
   "metadata": {},
   "outputs": [],
   "source": [
    "import pandas as pd"
   ]
  },
  {
   "cell_type": "code",
   "execution_count": 70,
   "metadata": {},
   "outputs": [],
   "source": [
    "import sqlite3"
   ]
  },
  {
   "cell_type": "code",
   "execution_count": 71,
   "metadata": {},
   "outputs": [],
   "source": [
    "conn = sqlite3.connect('etrade.db')"
   ]
  },
  {
   "cell_type": "code",
   "execution_count": 72,
   "metadata": {},
   "outputs": [],
   "source": [
    "cursor=conn.cursor()"
   ]
  },
  {
   "cell_type": "code",
   "execution_count": 73,
   "metadata": {},
   "outputs": [],
   "source": [
    "df_user=pd.read_sql_query(\"\"\"SELECT \n",
    "U.ID,U.USERNAME_,U.NAMESURNAME,U.EMAIL,U.GENDER,U.BIRTHDATE,U.TELNR1,U.TELNR2,\n",
    "COUNT(A.ID) TOTALADDRESSNUMBER,COUNT(DISTINCT C.CITY) DIFFERENTCITIESADDRESSNUMBER\n",
    "FROM user U \n",
    "INNER JOIN ADDRESS A ON U.ID=A.USERID\n",
    "INNER JOIN CITY C ON C.ID=A.CITYID\n",
    "GROUP BY U.ID,U.USERNAME_,U.NAMESURNAME,U.EMAIL,U.GENDER,U.BIRTHDATE,U.TELNR1,U.TELNR2\n",
    "HAVING COUNT(A.ID)<>COUNT(DISTINCT C.CITY)\n",
    "\"\"\",conn)"
   ]
  },
  {
   "cell_type": "code",
   "execution_count": 74,
   "metadata": {},
   "outputs": [
    {
     "data": {
      "text/plain": [
       "RangeIndex(start=0, stop=671, step=1)"
      ]
     },
     "execution_count": 74,
     "metadata": {},
     "output_type": "execute_result"
    }
   ],
   "source": [
    "df_user.index"
   ]
  },
  {
   "cell_type": "code",
   "execution_count": 75,
   "metadata": {},
   "outputs": [
    {
     "data": {
      "text/html": [
       "<div>\n",
       "<style scoped>\n",
       "    .dataframe tbody tr th:only-of-type {\n",
       "        vertical-align: middle;\n",
       "    }\n",
       "\n",
       "    .dataframe tbody tr th {\n",
       "        vertical-align: top;\n",
       "    }\n",
       "\n",
       "    .dataframe thead th {\n",
       "        text-align: right;\n",
       "    }\n",
       "</style>\n",
       "<table border=\"1\" class=\"dataframe\">\n",
       "  <thead>\n",
       "    <tr style=\"text-align: right;\">\n",
       "      <th></th>\n",
       "      <th>ID</th>\n",
       "      <th>USERNAME_</th>\n",
       "      <th>NAMESURNAME</th>\n",
       "      <th>EMAIL</th>\n",
       "      <th>GENDER</th>\n",
       "      <th>BIRTHDATE</th>\n",
       "      <th>TELNR1</th>\n",
       "      <th>TELNR2</th>\n",
       "      <th>TOTALADDRESSNUMBER</th>\n",
       "      <th>DIFFERENTCITIESADDRESSNUMBER</th>\n",
       "    </tr>\n",
       "  </thead>\n",
       "  <tbody>\n",
       "    <tr>\n",
       "      <th>0</th>\n",
       "      <td>34</td>\n",
       "      <td>S_SAPCI</td>\n",
       "      <td>Serdar ŞAPÇI</td>\n",
       "      <td>S_SAPCI@sqlegitim.com</td>\n",
       "      <td>E</td>\n",
       "      <td>1961-02-11</td>\n",
       "      <td>(554)1355353</td>\n",
       "      <td>(544)4796414</td>\n",
       "      <td>3</td>\n",
       "      <td>2</td>\n",
       "    </tr>\n",
       "    <tr>\n",
       "      <th>1</th>\n",
       "      <td>52</td>\n",
       "      <td>S_KARIMAN</td>\n",
       "      <td>Sabri KARİMAN</td>\n",
       "      <td>S_KARIMAN@sqlegitim.com</td>\n",
       "      <td>E</td>\n",
       "      <td>1952-05-06</td>\n",
       "      <td>(536)9088163</td>\n",
       "      <td>(532)9777077</td>\n",
       "      <td>2</td>\n",
       "      <td>1</td>\n",
       "    </tr>\n",
       "    <tr>\n",
       "      <th>2</th>\n",
       "      <td>55</td>\n",
       "      <td>A_INCIKAPI</td>\n",
       "      <td>Ahmet İNCİKAPI</td>\n",
       "      <td>A_INCIKAPI@sqlegitim.com</td>\n",
       "      <td>E</td>\n",
       "      <td>1991-05-28</td>\n",
       "      <td>(532)2414618</td>\n",
       "      <td>(538)8459085</td>\n",
       "      <td>4</td>\n",
       "      <td>3</td>\n",
       "    </tr>\n",
       "    <tr>\n",
       "      <th>3</th>\n",
       "      <td>74</td>\n",
       "      <td>O_EYYVBOGLU</td>\n",
       "      <td>Onur EYYÜBOĞLU</td>\n",
       "      <td>O_EYYVBOGLU@sqlegitim.com</td>\n",
       "      <td>E</td>\n",
       "      <td>1945-09-29</td>\n",
       "      <td>(537)9702529</td>\n",
       "      <td>(536)4471784</td>\n",
       "      <td>4</td>\n",
       "      <td>3</td>\n",
       "    </tr>\n",
       "    <tr>\n",
       "      <th>4</th>\n",
       "      <td>90</td>\n",
       "      <td>S_KAMURAN</td>\n",
       "      <td>Sude KAMURAN</td>\n",
       "      <td>S_KAMURAN@sqlegitim.com</td>\n",
       "      <td>K</td>\n",
       "      <td>1967-12-23</td>\n",
       "      <td>(554)8591714</td>\n",
       "      <td>(541)4484973</td>\n",
       "      <td>4</td>\n",
       "      <td>3</td>\n",
       "    </tr>\n",
       "  </tbody>\n",
       "</table>\n",
       "</div>"
      ],
      "text/plain": [
       "   ID    USERNAME_     NAMESURNAME                      EMAIL GENDER  \\\n",
       "0  34      S_SAPCI    Serdar ŞAPÇI      S_SAPCI@sqlegitim.com      E   \n",
       "1  52    S_KARIMAN   Sabri KARİMAN    S_KARIMAN@sqlegitim.com      E   \n",
       "2  55   A_INCIKAPI  Ahmet İNCİKAPI   A_INCIKAPI@sqlegitim.com      E   \n",
       "3  74  O_EYYVBOGLU  Onur EYYÜBOĞLU  O_EYYVBOGLU@sqlegitim.com      E   \n",
       "4  90    S_KAMURAN    Sude KAMURAN    S_KAMURAN@sqlegitim.com      K   \n",
       "\n",
       "    BIRTHDATE        TELNR1        TELNR2  TOTALADDRESSNUMBER  \\\n",
       "0  1961-02-11  (554)1355353  (544)4796414                   3   \n",
       "1  1952-05-06  (536)9088163  (532)9777077                   2   \n",
       "2  1991-05-28  (532)2414618  (538)8459085                   4   \n",
       "3  1945-09-29  (537)9702529  (536)4471784                   4   \n",
       "4  1967-12-23  (554)8591714  (541)4484973                   4   \n",
       "\n",
       "   DIFFERENTCITIESADDRESSNUMBER  \n",
       "0                             2  \n",
       "1                             1  \n",
       "2                             3  \n",
       "3                             3  \n",
       "4                             3  "
      ]
     },
     "execution_count": 75,
     "metadata": {},
     "output_type": "execute_result"
    }
   ],
   "source": [
    "df_user.head()"
   ]
  },
  {
   "cell_type": "markdown",
   "metadata": {},
   "source": [
    "##### As we know we have 10000 users, just 671 users have addresses that are in different cities.For example Serdar Şapçi has 3 total address, however these 3 addresses exist in 2 cities."
   ]
  },
  {
   "cell_type": "markdown",
   "metadata": {},
   "source": [
    "#### Question 2: Bring me the  top users' shopping number,amount and totalprice"
   ]
  },
  {
   "cell_type": "code",
   "execution_count": 76,
   "metadata": {},
   "outputs": [],
   "source": [
    "df_shopping=pd.read_sql_query(\"\"\"SELECT \n",
    "U.ID,U.USERNAME_,\n",
    "COUNT(DISTINCT B.ID) NUMBEROFSHOPPING ,\n",
    "COUNT(B.ID) NUMBEROFITEMS,\n",
    "SUM(BD.AMOUNT) AMOUNTOFITEMS\n",
    ",SUM(TOTAL) TOTALPRICE\n",
    "FROM user U \n",
    "INNER JOIN BASKET B ON B.USERID=U.ID\n",
    "INNER JOIN BASKETDETAIL BD ON BD.BASKETID=B.ID\n",
    "group by U.ID,U.USERNAME_\n",
    "ORDER BY SUM(TOTAL) DESC\n",
    "\"\"\",conn)"
   ]
  },
  {
   "cell_type": "code",
   "execution_count": 77,
   "metadata": {},
   "outputs": [
    {
     "data": {
      "text/html": [
       "<div>\n",
       "<style scoped>\n",
       "    .dataframe tbody tr th:only-of-type {\n",
       "        vertical-align: middle;\n",
       "    }\n",
       "\n",
       "    .dataframe tbody tr th {\n",
       "        vertical-align: top;\n",
       "    }\n",
       "\n",
       "    .dataframe thead th {\n",
       "        text-align: right;\n",
       "    }\n",
       "</style>\n",
       "<table border=\"1\" class=\"dataframe\">\n",
       "  <thead>\n",
       "    <tr style=\"text-align: right;\">\n",
       "      <th></th>\n",
       "      <th>ID</th>\n",
       "      <th>USERNAME_</th>\n",
       "      <th>NUMBEROFSHOPPING</th>\n",
       "      <th>NUMBEROFITEMS</th>\n",
       "      <th>AMOUNTOFITEMS</th>\n",
       "      <th>TOTALPRICE</th>\n",
       "    </tr>\n",
       "  </thead>\n",
       "  <tbody>\n",
       "    <tr>\n",
       "      <th>0</th>\n",
       "      <td>601</td>\n",
       "      <td>Y_OZSOLAK</td>\n",
       "      <td>4</td>\n",
       "      <td>27</td>\n",
       "      <td>71</td>\n",
       "      <td>52078.47</td>\n",
       "    </tr>\n",
       "    <tr>\n",
       "      <th>1</th>\n",
       "      <td>6579</td>\n",
       "      <td>S_YAVUZ</td>\n",
       "      <td>5</td>\n",
       "      <td>34</td>\n",
       "      <td>82</td>\n",
       "      <td>51461.78</td>\n",
       "    </tr>\n",
       "    <tr>\n",
       "      <th>2</th>\n",
       "      <td>2317</td>\n",
       "      <td>Z_HALAT</td>\n",
       "      <td>3</td>\n",
       "      <td>19</td>\n",
       "      <td>51</td>\n",
       "      <td>48407.20</td>\n",
       "    </tr>\n",
       "    <tr>\n",
       "      <th>3</th>\n",
       "      <td>3963</td>\n",
       "      <td>P_SALAGOZ</td>\n",
       "      <td>3</td>\n",
       "      <td>24</td>\n",
       "      <td>58</td>\n",
       "      <td>39054.21</td>\n",
       "    </tr>\n",
       "    <tr>\n",
       "      <th>4</th>\n",
       "      <td>3215</td>\n",
       "      <td>I_BALIMRE</td>\n",
       "      <td>5</td>\n",
       "      <td>28</td>\n",
       "      <td>73</td>\n",
       "      <td>38097.99</td>\n",
       "    </tr>\n",
       "  </tbody>\n",
       "</table>\n",
       "</div>"
      ],
      "text/plain": [
       "     ID  USERNAME_  NUMBEROFSHOPPING  NUMBEROFITEMS  AMOUNTOFITEMS  TOTALPRICE\n",
       "0   601  Y_OZSOLAK                 4             27             71    52078.47\n",
       "1  6579    S_YAVUZ                 5             34             82    51461.78\n",
       "2  2317    Z_HALAT                 3             19             51    48407.20\n",
       "3  3963  P_SALAGOZ                 3             24             58    39054.21\n",
       "4  3215  I_BALIMRE                 5             28             73    38097.99"
      ]
     },
     "execution_count": 77,
     "metadata": {},
     "output_type": "execute_result"
    }
   ],
   "source": [
    "df_shopping.head()"
   ]
  },
  {
   "cell_type": "markdown",
   "metadata": {},
   "source": [
    "##### The query shows how many times shopping was performed and how many and how much amount of items are bought and total price of items."
   ]
  },
  {
   "cell_type": "markdown",
   "metadata": {},
   "source": [
    "#### Question 3: Bring me the top cities shopping number,amount and totalprice"
   ]
  },
  {
   "cell_type": "code",
   "execution_count": 78,
   "metadata": {},
   "outputs": [],
   "source": [
    "df_shopping_city=pd.read_sql_query(\"\"\"SELECT \n",
    "C.CITY,\n",
    "COUNT(DISTINCT B.ID) NUMBEROFSHOPPING ,\n",
    "COUNT(B.ID) NUMBEROFITEMS,\n",
    "SUM(BD.AMOUNT) AMOUNTOFITEMS\n",
    ",SUM(TOTAL) TOTALPRICE\n",
    "FROM user U \n",
    "INNER JOIN ADDRESS A ON U.ID=A.USERID\n",
    "INNER JOIN CITY C ON C.ID=A.CITYID\n",
    "INNER JOIN BASKET B ON B.USERID=U.ID\n",
    "INNER JOIN BASKETDETAIL BD ON BD.BASKETID=B.ID\n",
    "\n",
    "group by C.CITY\n",
    "ORDER BY SUM(TOTAL) DESC\n",
    "\"\"\",conn)"
   ]
  },
  {
   "cell_type": "code",
   "execution_count": 79,
   "metadata": {},
   "outputs": [
    {
     "data": {
      "text/html": [
       "<div>\n",
       "<style scoped>\n",
       "    .dataframe tbody tr th:only-of-type {\n",
       "        vertical-align: middle;\n",
       "    }\n",
       "\n",
       "    .dataframe tbody tr th {\n",
       "        vertical-align: top;\n",
       "    }\n",
       "\n",
       "    .dataframe thead th {\n",
       "        text-align: right;\n",
       "    }\n",
       "</style>\n",
       "<table border=\"1\" class=\"dataframe\">\n",
       "  <thead>\n",
       "    <tr style=\"text-align: right;\">\n",
       "      <th></th>\n",
       "      <th>CITY</th>\n",
       "      <th>NUMBEROFSHOPPING</th>\n",
       "      <th>NUMBEROFITEMS</th>\n",
       "      <th>AMOUNTOFITEMS</th>\n",
       "      <th>TOTALPRICE</th>\n",
       "    </tr>\n",
       "  </thead>\n",
       "  <tbody>\n",
       "    <tr>\n",
       "      <th>0</th>\n",
       "      <td>İSTANBUL</td>\n",
       "      <td>9368</td>\n",
       "      <td>51348</td>\n",
       "      <td>127877</td>\n",
       "      <td>5676069.06</td>\n",
       "    </tr>\n",
       "    <tr>\n",
       "      <th>1</th>\n",
       "      <td>İZMİR</td>\n",
       "      <td>5929</td>\n",
       "      <td>31442</td>\n",
       "      <td>78577</td>\n",
       "      <td>3223290.42</td>\n",
       "    </tr>\n",
       "    <tr>\n",
       "      <th>2</th>\n",
       "      <td>ANKARA</td>\n",
       "      <td>3944</td>\n",
       "      <td>20754</td>\n",
       "      <td>51735</td>\n",
       "      <td>2266565.54</td>\n",
       "    </tr>\n",
       "    <tr>\n",
       "      <th>3</th>\n",
       "      <td>KONYA</td>\n",
       "      <td>3699</td>\n",
       "      <td>19278</td>\n",
       "      <td>48275</td>\n",
       "      <td>2142839.28</td>\n",
       "    </tr>\n",
       "    <tr>\n",
       "      <th>4</th>\n",
       "      <td>BURSA</td>\n",
       "      <td>3475</td>\n",
       "      <td>18040</td>\n",
       "      <td>44970</td>\n",
       "      <td>1965123.23</td>\n",
       "    </tr>\n",
       "  </tbody>\n",
       "</table>\n",
       "</div>"
      ],
      "text/plain": [
       "       CITY  NUMBEROFSHOPPING  NUMBEROFITEMS  AMOUNTOFITEMS  TOTALPRICE\n",
       "0  İSTANBUL              9368          51348         127877  5676069.06\n",
       "1     İZMİR              5929          31442          78577  3223290.42\n",
       "2    ANKARA              3944          20754          51735  2266565.54\n",
       "3     KONYA              3699          19278          48275  2142839.28\n",
       "4     BURSA              3475          18040          44970  1965123.23"
      ]
     },
     "execution_count": 79,
     "metadata": {},
     "output_type": "execute_result"
    }
   ],
   "source": [
    "df_shopping_city.head()"
   ]
  },
  {
   "cell_type": "markdown",
   "metadata": {},
   "source": [
    "##### The query shows how many times shopping was performed and how many and how much amount of items are bought and total price of items by cities"
   ]
  },
  {
   "cell_type": "markdown",
   "metadata": {},
   "source": [
    "#### Question 4: Bring me the top brand "
   ]
  },
  {
   "cell_type": "code",
   "execution_count": 80,
   "metadata": {},
   "outputs": [],
   "source": [
    "df_shopping_brand=pd.read_sql_query(\"\"\"SELECT \n",
    "I.CATEGORY1,I.CATEGORY2,I.CATEGORY3,\n",
    "SUM(OD.TOTALPRICE) TOTAL \n",
    "\n",
    "FROM ITEM I \n",
    "INNER JOIN ORDERDETAIL OD   ON OD.ITEMID=I.ID\n",
    "INNER JOIN ORDER_ O ON O.ID=OD.ORDERID\n",
    "\n",
    "group by I.CATEGORY1,I.CATEGORY2,I.CATEGORY3\n",
    "ORDER BY SUM(OD.TOTALPRICE) DESC\n",
    "\"\"\",conn)"
   ]
  },
  {
   "cell_type": "code",
   "execution_count": 81,
   "metadata": {},
   "outputs": [
    {
     "data": {
      "text/html": [
       "<div>\n",
       "<style scoped>\n",
       "    .dataframe tbody tr th:only-of-type {\n",
       "        vertical-align: middle;\n",
       "    }\n",
       "\n",
       "    .dataframe tbody tr th {\n",
       "        vertical-align: top;\n",
       "    }\n",
       "\n",
       "    .dataframe thead th {\n",
       "        text-align: right;\n",
       "    }\n",
       "</style>\n",
       "<table border=\"1\" class=\"dataframe\">\n",
       "  <thead>\n",
       "    <tr style=\"text-align: right;\">\n",
       "      <th></th>\n",
       "      <th>CATEGORY1</th>\n",
       "      <th>CATEGORY2</th>\n",
       "      <th>CATEGORY3</th>\n",
       "      <th>TOTAL</th>\n",
       "    </tr>\n",
       "  </thead>\n",
       "  <tbody>\n",
       "    <tr>\n",
       "      <th>0</th>\n",
       "      <td>elektronik-gida-disi</td>\n",
       "      <td>elektronik</td>\n",
       "      <td>None</td>\n",
       "      <td>5640792.54</td>\n",
       "    </tr>\n",
       "    <tr>\n",
       "      <th>1</th>\n",
       "      <td>elektronik-gida-disi</td>\n",
       "      <td>beyaz-esya</td>\n",
       "      <td>None</td>\n",
       "      <td>2734029.10</td>\n",
       "    </tr>\n",
       "    <tr>\n",
       "      <th>2</th>\n",
       "      <td>elektronik-gida-disi</td>\n",
       "      <td>elektronik</td>\n",
       "      <td>bilgisayar</td>\n",
       "      <td>1838074.19</td>\n",
       "    </tr>\n",
       "    <tr>\n",
       "      <th>3</th>\n",
       "      <td>elektronik-gida-disi</td>\n",
       "      <td>kucuk-ev-aletleri</td>\n",
       "      <td>None</td>\n",
       "      <td>1257945.25</td>\n",
       "    </tr>\n",
       "    <tr>\n",
       "      <th>4</th>\n",
       "      <td>elektronik-gida-disi</td>\n",
       "      <td>beyaz-esya</td>\n",
       "      <td>buzdolabi</td>\n",
       "      <td>911494.10</td>\n",
       "    </tr>\n",
       "  </tbody>\n",
       "</table>\n",
       "</div>"
      ],
      "text/plain": [
       "              CATEGORY1          CATEGORY2   CATEGORY3       TOTAL\n",
       "0  elektronik-gida-disi         elektronik        None  5640792.54\n",
       "1  elektronik-gida-disi         beyaz-esya        None  2734029.10\n",
       "2  elektronik-gida-disi         elektronik  bilgisayar  1838074.19\n",
       "3  elektronik-gida-disi  kucuk-ev-aletleri        None  1257945.25\n",
       "4  elektronik-gida-disi         beyaz-esya   buzdolabi   911494.10"
      ]
     },
     "execution_count": 81,
     "metadata": {},
     "output_type": "execute_result"
    }
   ],
   "source": [
    "df_shopping_brand.head()"
   ]
  },
  {
   "cell_type": "markdown",
   "metadata": {},
   "source": [
    "##### The query shows how many times shopping was performed and how many and how much amount of items are bought and total price of items by brands"
   ]
  },
  {
   "cell_type": "markdown",
   "metadata": {},
   "source": [
    "#### Question 5: Bring me the male and female totalprice who shopped in 2021,January"
   ]
  },
  {
   "cell_type": "code",
   "execution_count": 95,
   "metadata": {
    "collapsed": true,
    "jupyter": {
     "outputs_hidden": true
    }
   },
   "outputs": [
    {
     "ename": "TypeError",
     "evalue": "'tuple' object is not callable",
     "output_type": "error",
     "traceback": [
      "\u001b[1;31m---------------------------------------------------------------------------\u001b[0m",
      "\u001b[1;31mTypeError\u001b[0m                                 Traceback (most recent call last)",
      "\u001b[1;32m<ipython-input-95-1f5bb3eb195f>\u001b[0m in \u001b[0;36m<module>\u001b[1;34m\u001b[0m\n\u001b[1;32m----> 1\u001b[1;33m df_shopping_gender=pd.read_sql_query(\"\"\"SELECT \n\u001b[0m\u001b[0;32m      2\u001b[0m \u001b[0mU\u001b[0m\u001b[1;33m.\u001b[0m\u001b[0mGENDER\u001b[0m\u001b[1;33m,\u001b[0m\u001b[0mSUM\u001b[0m\u001b[1;33m(\u001b[0m\u001b[0mBD\u001b[0m\u001b[1;33m.\u001b[0m\u001b[0mTOTAL\u001b[0m\u001b[1;33m)\u001b[0m \u001b[0mFROM\u001b[0m \u001b[0muser\u001b[0m \u001b[0mU\u001b[0m\u001b[1;33m\u001b[0m\u001b[1;33m\u001b[0m\u001b[0m\n\u001b[0;32m      3\u001b[0m \u001b[0mINNER\u001b[0m \u001b[0mJOIN\u001b[0m \u001b[0mBASKET\u001b[0m \u001b[0mB\u001b[0m \u001b[0mON\u001b[0m \u001b[0mB\u001b[0m\u001b[1;33m.\u001b[0m\u001b[0mUSERID\u001b[0m\u001b[1;33m=\u001b[0m\u001b[0mU\u001b[0m\u001b[1;33m.\u001b[0m\u001b[0mID\u001b[0m\u001b[1;33m\u001b[0m\u001b[1;33m\u001b[0m\u001b[0m\n\u001b[0;32m      4\u001b[0m \u001b[0mINNER\u001b[0m \u001b[0mJOIN\u001b[0m \u001b[0mBASKETDETAIL\u001b[0m \u001b[0mBD\u001b[0m \u001b[0mON\u001b[0m \u001b[0mBD\u001b[0m\u001b[1;33m.\u001b[0m\u001b[0mBASKETID\u001b[0m\u001b[1;33m=\u001b[0m\u001b[0mB\u001b[0m\u001b[1;33m.\u001b[0m\u001b[0mID\u001b[0m\u001b[1;33m\u001b[0m\u001b[1;33m\u001b[0m\u001b[0m\n\u001b[0;32m      5\u001b[0m \u001b[0mWHERE\u001b[0m \u001b[0mB\u001b[0m\u001b[1;33m.\u001b[0m\u001b[0mCREATEDDATE\u001b[0m \u001b[0mBETWEEN\u001b[0m \u001b[1;34m' 2021-01-01 00:00:00.00'\u001b[0m \u001b[0mAND\u001b[0m \u001b[1;34m'2021-01-31 23:59:59.623'\u001b[0m\u001b[1;33m\u001b[0m\u001b[1;33m\u001b[0m\u001b[0m\n",
      "\u001b[1;31mTypeError\u001b[0m: 'tuple' object is not callable"
     ]
    }
   ],
   "source": [
    "df_shopping_gender=pd.read_sql_query(\"\"\"SELECT \n",
    "U.GENDER,SUM(BD.TOTAL) FROM user U\n",
    "INNER JOIN BASKET B ON B.USERID=U.ID\n",
    "INNER JOIN BASKETDETAIL BD ON BD.BASKETID=B.ID\n",
    "WHERE B.CREATEDDATE BETWEEN ' 2021-01-01 00:00:00.00' AND '2021-01-31 23:59:59.623'\n",
    "GROUP BY U.GENDER\n",
    "\"\"\",conn)"
   ]
  },
  {
   "cell_type": "code",
   "execution_count": 83,
   "metadata": {},
   "outputs": [
    {
     "data": {
      "text/html": [
       "<div>\n",
       "<style scoped>\n",
       "    .dataframe tbody tr th:only-of-type {\n",
       "        vertical-align: middle;\n",
       "    }\n",
       "\n",
       "    .dataframe tbody tr th {\n",
       "        vertical-align: top;\n",
       "    }\n",
       "\n",
       "    .dataframe thead th {\n",
       "        text-align: right;\n",
       "    }\n",
       "</style>\n",
       "<table border=\"1\" class=\"dataframe\">\n",
       "  <thead>\n",
       "    <tr style=\"text-align: right;\">\n",
       "      <th></th>\n",
       "      <th>GENDER</th>\n",
       "      <th>SUM(BD.TOTAL)</th>\n",
       "    </tr>\n",
       "  </thead>\n",
       "  <tbody>\n",
       "    <tr>\n",
       "      <th>0</th>\n",
       "      <td>E</td>\n",
       "      <td>6701712.73</td>\n",
       "    </tr>\n",
       "    <tr>\n",
       "      <th>1</th>\n",
       "      <td>K</td>\n",
       "      <td>7663754.06</td>\n",
       "    </tr>\n",
       "  </tbody>\n",
       "</table>\n",
       "</div>"
      ],
      "text/plain": [
       "  GENDER  SUM(BD.TOTAL)\n",
       "0      E     6701712.73\n",
       "1      K     7663754.06"
      ]
     },
     "execution_count": 83,
     "metadata": {},
     "output_type": "execute_result"
    }
   ],
   "source": [
    "df_shopping_gender.head()"
   ]
  },
  {
   "cell_type": "markdown",
   "metadata": {},
   "source": [
    "##### The query shows how many times shopping was performed and how many and how much amount of items are bought and total price of items by gender."
   ]
  },
  {
   "cell_type": "markdown",
   "metadata": {},
   "source": [
    "#### Question 6: Bring me top 5 sold  items per city."
   ]
  },
  {
   "cell_type": "code",
   "execution_count": 84,
   "metadata": {},
   "outputs": [],
   "source": [
    "df_top5_per_city=pd.read_sql(\"\"\"\n",
    "SELECT C.CITY,C1.CATEGORY1, SUM(C1.TOTALPRICE) TOTALPRICE\n",
    "\n",
    "FROM ORDERDETAIL OD\n",
    "CROSS JOIN\n",
    "\n",
    "(SELECT  CATEGORY1,SUM(OD.TOTALPRICE) TOTALPRICE FROM ITEM I\n",
    "INNER JOIN ORDERDETAIL OD ON OD.ITEMID=I.ID WHERE I.ID=OD.ITEMID GROUP BY CATEGORY1 LIMIT 5 ) C1\n",
    "\n",
    "INNER JOIN ORDER_ O ON O.ID=OD.ORDERID\n",
    "INNER JOIN ITEM I ON I.ID=OD.ITEMID\n",
    "INNER JOIN ADDRESS A ON A.ID=O.ADDRESSID\n",
    "INNER JOIN CITY C ON C.ID=A.CITYID\n",
    "GROUP BY C.CITY,C1.CATEGORY1\n",
    "ORDER BY 1,3 DESC \n",
    "\n",
    "\n",
    "\"\"\",conn)"
   ]
  },
  {
   "cell_type": "code",
   "execution_count": 85,
   "metadata": {},
   "outputs": [
    {
     "data": {
      "text/html": [
       "<div>\n",
       "<style scoped>\n",
       "    .dataframe tbody tr th:only-of-type {\n",
       "        vertical-align: middle;\n",
       "    }\n",
       "\n",
       "    .dataframe tbody tr th {\n",
       "        vertical-align: top;\n",
       "    }\n",
       "\n",
       "    .dataframe thead th {\n",
       "        text-align: right;\n",
       "    }\n",
       "</style>\n",
       "<table border=\"1\" class=\"dataframe\">\n",
       "  <thead>\n",
       "    <tr style=\"text-align: right;\">\n",
       "      <th></th>\n",
       "      <th>CITY</th>\n",
       "      <th>CATEGORY1</th>\n",
       "      <th>TOTALPRICE</th>\n",
       "    </tr>\n",
       "  </thead>\n",
       "  <tbody>\n",
       "    <tr>\n",
       "      <th>0</th>\n",
       "      <td>ADANA</td>\n",
       "      <td>elektronik-gida-disi</td>\n",
       "      <td>1.098249e+11</td>\n",
       "    </tr>\n",
       "    <tr>\n",
       "      <th>1</th>\n",
       "      <td>ADANA</td>\n",
       "      <td>kisisel-bakim</td>\n",
       "      <td>1.310147e+10</td>\n",
       "    </tr>\n",
       "    <tr>\n",
       "      <th>2</th>\n",
       "      <td>ADANA</td>\n",
       "      <td>gida-yemek-malzemeleri</td>\n",
       "      <td>6.366108e+09</td>\n",
       "    </tr>\n",
       "    <tr>\n",
       "      <th>3</th>\n",
       "      <td>ADANA</td>\n",
       "      <td>et-balik-sarkuteri</td>\n",
       "      <td>3.348042e+09</td>\n",
       "    </tr>\n",
       "    <tr>\n",
       "      <th>4</th>\n",
       "      <td>ADANA</td>\n",
       "      <td>icecek</td>\n",
       "      <td>1.873060e+09</td>\n",
       "    </tr>\n",
       "    <tr>\n",
       "      <th>...</th>\n",
       "      <td>...</td>\n",
       "      <td>...</td>\n",
       "      <td>...</td>\n",
       "    </tr>\n",
       "    <tr>\n",
       "      <th>400</th>\n",
       "      <td>ŞIRNAK</td>\n",
       "      <td>elektronik-gida-disi</td>\n",
       "      <td>8.656149e+09</td>\n",
       "    </tr>\n",
       "    <tr>\n",
       "      <th>401</th>\n",
       "      <td>ŞIRNAK</td>\n",
       "      <td>kisisel-bakim</td>\n",
       "      <td>1.032628e+09</td>\n",
       "    </tr>\n",
       "    <tr>\n",
       "      <th>402</th>\n",
       "      <td>ŞIRNAK</td>\n",
       "      <td>gida-yemek-malzemeleri</td>\n",
       "      <td>5.017622e+08</td>\n",
       "    </tr>\n",
       "    <tr>\n",
       "      <th>403</th>\n",
       "      <td>ŞIRNAK</td>\n",
       "      <td>et-balik-sarkuteri</td>\n",
       "      <td>2.638850e+08</td>\n",
       "    </tr>\n",
       "    <tr>\n",
       "      <th>404</th>\n",
       "      <td>ŞIRNAK</td>\n",
       "      <td>icecek</td>\n",
       "      <td>1.476303e+08</td>\n",
       "    </tr>\n",
       "  </tbody>\n",
       "</table>\n",
       "<p>405 rows × 3 columns</p>\n",
       "</div>"
      ],
      "text/plain": [
       "       CITY               CATEGORY1    TOTALPRICE\n",
       "0     ADANA    elektronik-gida-disi  1.098249e+11\n",
       "1     ADANA           kisisel-bakim  1.310147e+10\n",
       "2     ADANA  gida-yemek-malzemeleri  6.366108e+09\n",
       "3     ADANA      et-balik-sarkuteri  3.348042e+09\n",
       "4     ADANA                  icecek  1.873060e+09\n",
       "..      ...                     ...           ...\n",
       "400  ŞIRNAK    elektronik-gida-disi  8.656149e+09\n",
       "401  ŞIRNAK           kisisel-bakim  1.032628e+09\n",
       "402  ŞIRNAK  gida-yemek-malzemeleri  5.017622e+08\n",
       "403  ŞIRNAK      et-balik-sarkuteri  2.638850e+08\n",
       "404  ŞIRNAK                  icecek  1.476303e+08\n",
       "\n",
       "[405 rows x 3 columns]"
      ]
     },
     "execution_count": 85,
     "metadata": {},
     "output_type": "execute_result"
    }
   ],
   "source": [
    "df_top5_per_city"
   ]
  },
  {
   "cell_type": "markdown",
   "metadata": {},
   "source": [
    "##### The query shows TOP 5 products that sold in per city.We have 81 cities that is why we have 405 columns."
   ]
  },
  {
   "cell_type": "markdown",
   "metadata": {},
   "source": [
    "#### Question 7: Bring me user's addresses count and show the address which is user's last shopping address"
   ]
  },
  {
   "cell_type": "code",
   "execution_count": 86,
   "metadata": {},
   "outputs": [],
   "source": [
    "df_user_last_address=pd.read_sql_query(\"\"\"select U.ID,U.USERNAME_, \n",
    "(SELECT COUNT(*) FROM ADDRESS A WHERE A.USERID=U.ID)  ADDRESSCOUNT ,\n",
    "(SELECT ADDRESSTEXT FROM ADDRESS  WHERE ID IN \n",
    "(SELECT   ADDRESSID FROM ORDER_  WHERE USERID=U.ID ORDER BY DATE_ DESC LIMIT 1 )) LASTSHOPPINGADDRESS\n",
    " from user U LIMIT 5\n",
    "\n",
    "\n",
    "\"\"\",conn)"
   ]
  },
  {
   "cell_type": "code",
   "execution_count": 87,
   "metadata": {},
   "outputs": [
    {
     "data": {
      "text/html": [
       "<div>\n",
       "<style scoped>\n",
       "    .dataframe tbody tr th:only-of-type {\n",
       "        vertical-align: middle;\n",
       "    }\n",
       "\n",
       "    .dataframe tbody tr th {\n",
       "        vertical-align: top;\n",
       "    }\n",
       "\n",
       "    .dataframe thead th {\n",
       "        text-align: right;\n",
       "    }\n",
       "</style>\n",
       "<table border=\"1\" class=\"dataframe\">\n",
       "  <thead>\n",
       "    <tr style=\"text-align: right;\">\n",
       "      <th></th>\n",
       "      <th>ID</th>\n",
       "      <th>USERNAME_</th>\n",
       "      <th>ADDRESSCOUNT</th>\n",
       "      <th>LASTSHOPPINGADDRESS</th>\n",
       "    </tr>\n",
       "  </thead>\n",
       "  <tbody>\n",
       "    <tr>\n",
       "      <th>0</th>\n",
       "      <td>1</td>\n",
       "      <td>N_OZSIMITCI</td>\n",
       "      <td>4</td>\n",
       "      <td>YEN? MAH.FENERL?K SOKAK NO:431 79739 KIZIL�REN...</td>\n",
       "    </tr>\n",
       "    <tr>\n",
       "      <th>1</th>\n",
       "      <td>2</td>\n",
       "      <td>A_UNLUMAMULERI</td>\n",
       "      <td>1</td>\n",
       "      <td>ATAMER MAH.2581. SOKAK NO:529 96650 KONAK/?ZM?R</td>\n",
       "    </tr>\n",
       "    <tr>\n",
       "      <th>2</th>\n",
       "      <td>3</td>\n",
       "      <td>D_GURBETOGLU</td>\n",
       "      <td>1</td>\n",
       "      <td>FATIH MAH.PLEVNE CADDES? SOKAK NO:563 119342 S...</td>\n",
       "    </tr>\n",
       "    <tr>\n",
       "      <th>3</th>\n",
       "      <td>4</td>\n",
       "      <td>E_SELIM</td>\n",
       "      <td>2</td>\n",
       "      <td>FAT?H MAH.4583. SOKAK NO:46 94569 ISPARTA MERK...</td>\n",
       "    </tr>\n",
       "    <tr>\n",
       "      <th>4</th>\n",
       "      <td>5</td>\n",
       "      <td>S_VLGEN</td>\n",
       "      <td>2</td>\n",
       "      <td>�UKURKUYU-CAM? MAH.�?�EKL?BEL? SOKAK NO:258 10...</td>\n",
       "    </tr>\n",
       "  </tbody>\n",
       "</table>\n",
       "</div>"
      ],
      "text/plain": [
       "   ID       USERNAME_  ADDRESSCOUNT  \\\n",
       "0   1     N_OZSIMITCI             4   \n",
       "1   2  A_UNLUMAMULERI             1   \n",
       "2   3    D_GURBETOGLU             1   \n",
       "3   4         E_SELIM             2   \n",
       "4   5         S_VLGEN             2   \n",
       "\n",
       "                                 LASTSHOPPINGADDRESS  \n",
       "0  YEN? MAH.FENERL?K SOKAK NO:431 79739 KIZIL�REN...  \n",
       "1    ATAMER MAH.2581. SOKAK NO:529 96650 KONAK/?ZM?R  \n",
       "2  FATIH MAH.PLEVNE CADDES? SOKAK NO:563 119342 S...  \n",
       "3  FAT?H MAH.4583. SOKAK NO:46 94569 ISPARTA MERK...  \n",
       "4  �UKURKUYU-CAM? MAH.�?�EKL?BEL? SOKAK NO:258 10...  "
      ]
     },
     "execution_count": 87,
     "metadata": {},
     "output_type": "execute_result"
    }
   ],
   "source": [
    "df_user_last_address"
   ]
  },
  {
   "cell_type": "markdown",
   "metadata": {},
   "source": [
    "##### The query shows users address and their shopping last address registered in thee database."
   ]
  },
  {
   "cell_type": "markdown",
   "metadata": {},
   "source": [
    "#### Question 8: Users have two phone numbers and they use different GSMOPERATORs.In Turkey, if one phone number starts with \"50\" or \"55\" it means, it belongs to a spesific GSMOPERATOR.Similarly, if it starts with \"54\", belongs to another GSMOPERATOR and \"53\" shows another GSMOPERATOR.Let's count how many users use each GSMOPERATOR. "
   ]
  },
  {
   "cell_type": "code",
   "execution_count": 8,
   "metadata": {},
   "outputs": [],
   "source": [
    "df_differentGSMcount=pd.read_sql_query(\"\"\"SELECT \n",
    "SUM(TELNR1_XOPERATORCOUNT+TELNR2_XOPERATORCOUNT) AS XOPERATORCOUNT,\n",
    "SUM(TELNR1_YOPERATORCOUNT+TELNR2_YOPERATORCOUNT) AS YOPERATORCOUNT,\n",
    "SUM(TELNR1_ZOPERATORCOUNT+TELNR2_ZOPERATORCOUNT) AS ZOPERATORCOUNT FROM \n",
    "(SELECT \n",
    "    CASE\n",
    "        WHEN TELNR1 LIKE '(50%' OR TELNR1 LIKE '(55%' THEN 1 \n",
    "        ELSE 0\n",
    "        END AS TELNR1_XOPERATORCOUNT,\n",
    "    CASE\n",
    "        WHEN TELNR1 LIKE '(54%' THEN 1 \n",
    "        ELSE 0\n",
    "        END AS TELNR1_YOPERATORCOUNT,\n",
    "    CASE\n",
    "        WHEN TELNR1 LIKE '(53%' THEN 1 \n",
    "        ELSE 0\n",
    "        END AS TELNR1_ZOPERATORCOUNT,\n",
    "    CASE\n",
    "        WHEN TELNR2 LIKE '(50%' OR TELNR1 LIKE '(55%' THEN 1 \n",
    "        ELSE 0\n",
    "        END AS TELNR2_XOPERATORCOUNT,\n",
    "    CASE\n",
    "        WHEN TELNR2 LIKE '(54%' THEN 1\n",
    "        ELSE 0\n",
    "        END AS TELNR2_YOPERATORCOUNT,\n",
    "    CASE\n",
    "        WHEN TELNR2 LIKE '(53%' THEN 1\n",
    "        ELSE 0\n",
    "        END AS TELNR2_ZOPERATORCOUNT\n",
    "FROM user) T\n",
    "\n",
    "\n",
    "\"\"\",conn)"
   ]
  },
  {
   "cell_type": "code",
   "execution_count": 9,
   "metadata": {},
   "outputs": [
    {
     "data": {
      "text/html": [
       "<div>\n",
       "<style scoped>\n",
       "    .dataframe tbody tr th:only-of-type {\n",
       "        vertical-align: middle;\n",
       "    }\n",
       "\n",
       "    .dataframe tbody tr th {\n",
       "        vertical-align: top;\n",
       "    }\n",
       "\n",
       "    .dataframe thead th {\n",
       "        text-align: right;\n",
       "    }\n",
       "</style>\n",
       "<table border=\"1\" class=\"dataframe\">\n",
       "  <thead>\n",
       "    <tr style=\"text-align: right;\">\n",
       "      <th></th>\n",
       "      <th>XOPERATORCOUNT</th>\n",
       "      <th>YOPERATORCOUNT</th>\n",
       "      <th>ZOPERATORCOUNT</th>\n",
       "    </tr>\n",
       "  </thead>\n",
       "  <tbody>\n",
       "    <tr>\n",
       "      <th>0</th>\n",
       "      <td>4644</td>\n",
       "      <td>5332</td>\n",
       "      <td>9961</td>\n",
       "    </tr>\n",
       "  </tbody>\n",
       "</table>\n",
       "</div>"
      ],
      "text/plain": [
       "   XOPERATORCOUNT  YOPERATORCOUNT  ZOPERATORCOUNT\n",
       "0            4644            5332            9961"
      ]
     },
     "execution_count": 9,
     "metadata": {},
     "output_type": "execute_result"
    }
   ],
   "source": [
    "df_differentGSMcount"
   ]
  },
  {
   "cell_type": "markdown",
   "metadata": {},
   "source": [
    "##### The query shows, for example X operator has 4644 users,Y operator has 5332 and Z operator has 9961 users in the database"
   ]
  },
  {
   "cell_type": "markdown",
   "metadata": {},
   "source": [
    "# CONCLUSION\n"
   ]
  },
  {
   "cell_type": "markdown",
   "metadata": {},
   "source": [
    "I created a rational database on SQLilte named it Etrade. All the tables are form by me and data for table is finded from  the some web sources.It is better to repeate that all the personel information is simulated.\n",
    "\n",
    "Here, Just a  few questions were asked and tried to respond it by using just SQL.There is no visualization or creating some report for speficial question.\n"
   ]
  },
  {
   "cell_type": "code",
   "execution_count": null,
   "metadata": {},
   "outputs": [],
   "source": []
  },
  {
   "cell_type": "code",
   "execution_count": null,
   "metadata": {},
   "outputs": [],
   "source": []
  },
  {
   "cell_type": "code",
   "execution_count": null,
   "metadata": {},
   "outputs": [],
   "source": []
  },
  {
   "cell_type": "code",
   "execution_count": null,
   "metadata": {},
   "outputs": [],
   "source": []
  },
  {
   "cell_type": "code",
   "execution_count": null,
   "metadata": {},
   "outputs": [],
   "source": []
  },
  {
   "cell_type": "code",
   "execution_count": null,
   "metadata": {},
   "outputs": [],
   "source": []
  },
  {
   "cell_type": "code",
   "execution_count": null,
   "metadata": {},
   "outputs": [],
   "source": []
  },
  {
   "cell_type": "code",
   "execution_count": null,
   "metadata": {},
   "outputs": [],
   "source": []
  },
  {
   "cell_type": "code",
   "execution_count": null,
   "metadata": {},
   "outputs": [],
   "source": []
  },
  {
   "cell_type": "code",
   "execution_count": null,
   "metadata": {},
   "outputs": [],
   "source": []
  },
  {
   "cell_type": "code",
   "execution_count": null,
   "metadata": {},
   "outputs": [],
   "source": []
  },
  {
   "cell_type": "code",
   "execution_count": null,
   "metadata": {},
   "outputs": [],
   "source": []
  },
  {
   "cell_type": "code",
   "execution_count": null,
   "metadata": {},
   "outputs": [],
   "source": []
  },
  {
   "cell_type": "code",
   "execution_count": null,
   "metadata": {},
   "outputs": [],
   "source": []
  },
  {
   "cell_type": "code",
   "execution_count": null,
   "metadata": {},
   "outputs": [],
   "source": []
  },
  {
   "cell_type": "code",
   "execution_count": null,
   "metadata": {},
   "outputs": [],
   "source": []
  },
  {
   "cell_type": "code",
   "execution_count": null,
   "metadata": {},
   "outputs": [],
   "source": []
  },
  {
   "cell_type": "code",
   "execution_count": null,
   "metadata": {},
   "outputs": [],
   "source": []
  },
  {
   "cell_type": "code",
   "execution_count": null,
   "metadata": {},
   "outputs": [],
   "source": []
  },
  {
   "cell_type": "code",
   "execution_count": null,
   "metadata": {},
   "outputs": [],
   "source": []
  },
  {
   "cell_type": "code",
   "execution_count": null,
   "metadata": {},
   "outputs": [],
   "source": []
  },
  {
   "cell_type": "code",
   "execution_count": null,
   "metadata": {},
   "outputs": [],
   "source": []
  },
  {
   "cell_type": "code",
   "execution_count": null,
   "metadata": {},
   "outputs": [],
   "source": []
  },
  {
   "cell_type": "code",
   "execution_count": null,
   "metadata": {},
   "outputs": [],
   "source": []
  },
  {
   "cell_type": "code",
   "execution_count": null,
   "metadata": {},
   "outputs": [],
   "source": []
  },
  {
   "cell_type": "code",
   "execution_count": null,
   "metadata": {},
   "outputs": [],
   "source": []
  },
  {
   "cell_type": "code",
   "execution_count": null,
   "metadata": {},
   "outputs": [],
   "source": []
  },
  {
   "cell_type": "code",
   "execution_count": null,
   "metadata": {},
   "outputs": [],
   "source": []
  },
  {
   "cell_type": "code",
   "execution_count": null,
   "metadata": {},
   "outputs": [],
   "source": []
  },
  {
   "cell_type": "code",
   "execution_count": null,
   "metadata": {},
   "outputs": [],
   "source": []
  }
 ],
 "metadata": {
  "kernelspec": {
   "display_name": "Python 3",
   "language": "python",
   "name": "python3"
  },
  "language_info": {
   "codemirror_mode": {
    "name": "ipython",
    "version": 3
   },
   "file_extension": ".py",
   "mimetype": "text/x-python",
   "name": "python",
   "nbconvert_exporter": "python",
   "pygments_lexer": "ipython3",
   "version": "3.8.5"
  }
 },
 "nbformat": 4,
 "nbformat_minor": 4
}
